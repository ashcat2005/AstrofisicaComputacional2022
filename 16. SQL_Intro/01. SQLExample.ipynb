{
 "cells": [
  {
   "cell_type": "markdown",
   "metadata": {
    "id": "JG-5Y0W5_4cm"
   },
   "source": [
    "![Astrofisica Computacional](../logo.png)"
   ]
  },
  {
   "cell_type": "markdown",
   "metadata": {},
   "source": [
    "---\n",
    "## 01. Introducción a SQL\n",
    "\n",
    "\n",
    "Eduard Larrañaga (ealarranaga@unal.edu.co)\n",
    "\n",
    "---"
   ]
  },
  {
   "cell_type": "markdown",
   "metadata": {
    "id": "V_L8Z7Pb_4cp"
   },
   "source": [
    "\n",
    "### Resumen\n",
    "\n",
    "En este cuaderno se presenta un manejo básico de SQLite3. \n",
    "\n",
    "---"
   ]
  },
  {
   "cell_type": "markdown",
   "metadata": {
    "id": "g7R70iXH-qH9"
   },
   "source": [
    "### SQL\n",
    "\n",
    "SQL (**S**tructured **Q**uery **L**anguage) es un lenguaje estandarizado para almacenar, manipular y obtener información de bases de datos.\n",
    " \n",
    "Este lenguaje es particularmente útil para manipular datos estructurados, i.e. datos que incorporan relacinoes entre entidades y variables."
   ]
  },
  {
   "cell_type": "markdown",
   "metadata": {
    "id": "MwAOj4WE_4cp"
   },
   "source": [
    "### Conociendo los datos\n",
    "\n",
    "En esta lección utilizaremos un archivo de datos utilizado en el curso CS50x de la Universidad de Harvard \n",
    "\n",
    "https://docs.google.com/spreadsheets/d/e/2PACX-1vRfpjV8pF6iNBu5xV-wnzHPXvW69wZcTxqsSnYqHx126N0bPfVhq63UtkG9mqUawB4tXneYh31xJlem/pubhtml\n",
    "\n",
    "\n",
    "(Este curso esta disponible en https://cs50.harvard.edu/x/2021/).\n",
    "\n",
    "---\n",
    "\n",
    "La hoja de calculo y la base de datos contiene información de shows en el sitio Netflix.\n",
    " "
   ]
  },
  {
   "cell_type": "markdown",
   "metadata": {
    "id": "Na-z41GsJN0b"
   },
   "source": [
    "---\n",
    "### SQLite\n",
    "\n",
    "[SQLite](https://www.sqlite.org/index.html) es una libreria construida en lenguaje C que implementa una versión pequeña y rápida de SQL.  Para verificar si ya tiene instalao SQLite en su computador puede utilizar el comando\n",
    "\n",
    "```\n",
    "$ sqlite3 --version\n",
    "```\n",
    "\n",
    "En caso de no estar instaldo, puede descargarlo de\n",
    "\n",
    "https://www.sqlite.org/download.html\n",
    "\n",
    "---\n",
    "\n",
    "El primer paso para utlizar SQLite es cargar la base de datos utilizando el comando\n",
    "\n",
    "```\n",
    "$ sqlite3 shows.db\n",
    "```\n",
    "\n",
    "Cuando se carga la información, el promt del sistema se cambiará a  `sqlite>`. \n",
    "\n",
    "\n",
    "La estructura de la base de datos se puede obtener con el comando\n",
    "```\n",
    "sqlite> .schema\n",
    "```\n",
    "\n",
    "La estructura de una tabla particular dentre de la base de datos se obtiene mediante\n",
    "```\n",
    "sqlite> .schema stars\n",
    "```"
   ]
  },
  {
   "cell_type": "markdown",
   "metadata": {
    "id": "wq0AzEqgJSs_"
   },
   "source": [
    "---\n",
    "### Estructura de un 'Llamado'  (Query)\n",
    "\n",
    "Un llamado (query) en SQL consiste de tres partes o bloques: el bloque **SELECT**, el bloque **FROM** y el bloque **WHERE**.\n",
    "\n",
    " - El bloque SELECT le dice a la base de datos que columnas se desean obtener. El nombre de cada columna o característica se separa con una coma. \n",
    "\n",
    "- El bloque FROM especifica de cual tabla (o tablas) se quiere extraer la información.\n",
    "\n",
    "\n",
    "\n",
    "Por ejemplo, si se quiere obtener la columna `year` de la tabla `shows`, se utiliza el comando\n",
    "\n",
    "```\n",
    "SELECT year FROM shows;\n",
    "```\n",
    "\n",
    "Si se quieren obtener las columnas `title` y `year` de la tabla `shows`, se utiliza \n",
    "\n",
    "\n",
    "```\n",
    "SELECT title, year FROM shows;\n",
    "```\n",
    "\n",
    "\n",
    "Cuando se quieren seleccionar TODAS las columnas de una tabla, se utiliza\n",
    "\n",
    "```\n",
    "SELECT * FROM shows;\n",
    "```\n",
    "\n",
    "\n",
    "\n",
    "\n",
    "- El bloque WHERE permite especificar alguna(s) característica(s) para restringir la busqueda. La lista de especificaciones debe estar separada por operadores booleanos.\n",
    "\n",
    "\n",
    "Suponga que se quiere restringir la busqueda a un show particular definiendo su titulo. \n",
    "\n",
    "```\n",
    "SELECT * FROM shows WHERE title='Black Mirror';\n",
    "```\n"
   ]
  },
  {
   "cell_type": "markdown",
   "metadata": {
    "id": "CvIcvv7LN85r"
   },
   "source": [
    "Ahora intentamos algunos comandos básicos en SQLite.\n",
    "\n",
    "\n",
    "1. Mostrar la estructura de la base de datos\n",
    "```\n",
    "sqlite> .schema\n",
    "```\n",
    "\n",
    "2. Mostrar la estructura de una tabla particular en la base de datos\n",
    "```\n",
    "sqlite> .schema stars\n",
    "```\n",
    "\n",
    "3. Selecciona todas las características de una tabla (en general puede ser mucha información!)\n",
    "```\n",
    "SELECT * FROM shows;\n",
    "```\n",
    "\n",
    "4. Cuántas entradas se tienen con las características buscadas?\n",
    "```\n",
    "SELECT COUNT(*) FROM shows;\n",
    "```\n",
    "\n",
    "5. Seleccionar una muestra particular de la lista (e.g. con un titulo específico)\n",
    "```\n",
    "SELECT * FROM shows WHERE title = 'Black Mirror';\n",
    "```\n",
    "\n",
    "6. Seleccionar los primeros N resultados en una busqueda\n",
    "```\n",
    "SELECT title, year FROM shows WHERE year = 2019 LIMIT 5;\n",
    "```\n",
    "\n",
    "7. En algunas ocasiones , una busqueda específica puede retornar varios resultados,\n",
    "```\n",
    "SELECT * FROM shows WHERE title = 'The Office';\n",
    "```\n",
    "\n",
    "8. Seleccionar muestras con una parte de texto,\n",
    "```\n",
    "SELECT * FROM shows WHERE title LIKE '%Things%';\n",
    "```\n",
    "\n",
    "9. Selecionar muestras mediante una especificación de valores numéricos\n",
    "```\n",
    "SELECT * FROM shows WHERE year > 2020;\n",
    "```\n",
    "\n",
    "10. Seleccionar una muestra con una característica que no se espcifica completamente\n",
    "```\n",
    "SELECT year FROM shows WHERE title LIKE 'Stranger Things';\n",
    "```\n",
    "\n",
    "11. Ordenar la selección de acuerdo con una característica\n",
    "```\n",
    "SELECT * FROM shows WHERE title LIKE 'Doctor Who%' ORDER BY year;\n",
    "```\n",
    "\n",
    "```\n",
    "SELECT * FROM shows WHERE title LIKE 'Doctor Who%' ORDER BY year DESC;\n",
    "```\n",
    "\n",
    "```\n",
    "SELECT * FROM shows WHERE title LIKE 'Doctor Who%' ORDER BY year DESC LIMIT 10;\n",
    "```\n",
    "\n",
    "12. Incluir operadores booleanos en la busqueda\n",
    "```\n",
    "SELECT * FROM shows WHERE year > 1990 AND year < 2000 ;\n",
    "```\n",
    "```\n",
    "SELECT * FROM shows WHERE year BETWEEN 1990 AND 2000 ;\n",
    "```\n",
    "```\n",
    "SELECT id FROM shows WHERE title='Stranger Things' AND year = 2016;\n",
    "```\n",
    "\n",
    "13. Busqueda involucrando más de una tabla\n",
    "```\n",
    "SELECT * FROM genres WHERE show_id = 4574334;\n",
    "```\n",
    "\n",
    "Esta busqueda se puede realizar más automáticamente mediante \n",
    "```\n",
    "SELECT * FROM genres WHERE show_id = (SELECT id FROM shows WHERE title='Stranger Things' AND year = 2016);\n",
    "```\n",
    "\n",
    "14. Para salir de SQLite, se hace\n",
    "```\n",
    ".quit\n",
    "```\n"
   ]
  },
  {
   "cell_type": "markdown",
   "metadata": {
    "id": "UCYT79oQOZe0"
   },
   "source": [
    "---\n",
    "### Ejercicios\n",
    "\n",
    "1. Cuantos shows tienen un rating perfecto de 10.0?\n",
    "\n",
    "2. Cuantos episodios tiene el show 'Black Mirror'?\n",
    "\n",
    "3. Cuantos shows hay en el genero de Sci-Fi?\n",
    "\n",
    "4. Cual es el show con mejor rating en el genero de Horror?\n",
    "\n",
    "5. Cuantos shows del genero Animation hay en la base de datos?\n",
    "\n",
    "6. Cuales son los 10 shows con peor rating en el genero de animación entre el 2005 y el 2010?\n",
    "\n",
    "\n"
   ]
  }
 ],
 "metadata": {
  "@webio": {
   "lastCommId": null,
   "lastKernelId": null
  },
  "colab": {
   "collapsed_sections": [],
   "name": "01. SQLExample.ipynb",
   "provenance": []
  },
  "kernelspec": {
   "display_name": "Python 3 (ipykernel)",
   "language": "python",
   "name": "python3"
  },
  "language_info": {
   "codemirror_mode": {
    "name": "ipython",
    "version": 3
   },
   "file_extension": ".py",
   "mimetype": "text/x-python",
   "name": "python",
   "nbconvert_exporter": "python",
   "pygments_lexer": "ipython3",
   "version": "3.9.5"
  }
 },
 "nbformat": 4,
 "nbformat_minor": 1
}
