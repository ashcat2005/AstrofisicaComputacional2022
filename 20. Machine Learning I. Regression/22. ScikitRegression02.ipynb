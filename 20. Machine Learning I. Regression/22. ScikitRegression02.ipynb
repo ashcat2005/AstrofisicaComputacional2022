{
 "cells": [
  {
   "cell_type": "markdown",
   "metadata": {
    "id": "-Esqs0oyPPv6"
   },
   "source": [
    "![Astrofisica Computacional](../logo.png)"
   ]
  },
  {
   "cell_type": "markdown",
   "metadata": {},
   "source": [
    "---\n",
    "\n",
    "## Linear Fit with SciKit-Learn Example 2\n",
    "\n",
    "\n",
    "Eduard Larrañaga (ealarranaga@unal.edu.co)\n",
    "\n",
    "---"
   ]
  },
  {
   "cell_type": "markdown",
   "metadata": {
    "id": "x4DsGDacPPwC"
   },
   "source": [
    "### About this notebook\n",
    "\n",
    "In this worksheet, we will use the `scikit-learn` package split a sample database of 88 supermassive black holes into train and test sets in order to implement a linear model.\n",
    "\n",
    "---"
   ]
  },
  {
   "cell_type": "code",
   "execution_count": 1,
   "metadata": {
    "executionInfo": {
     "elapsed": 2613,
     "status": "ok",
     "timestamp": 1618151582436,
     "user": {
      "displayName": "Eduard Alexis Larranaga",
      "photoUrl": "https://lh3.googleusercontent.com/a-/AOh14GgCVABzEgj-rCdyxWa29RnA0kIYUCXAaVbnRYOEhQ=s64",
      "userId": "04402438389940282602"
     },
     "user_tz": 300
    },
    "id": "RhsnHJiKPPwD"
   },
   "outputs": [],
   "source": [
    "import numpy as np\n",
    "from matplotlib import pyplot as plt\n",
    "#import seaborn as sns\n",
    "#sns.set()\n",
    "import pandas as pd\n",
    "from astropy.io import ascii\n",
    "\n",
    "from sklearn.linear_model import LinearRegression\n",
    "from sklearn.model_selection import train_test_split\n",
    "\n",
    "# No warnings\n",
    "import warnings\n",
    "warnings.filterwarnings('ignore')"
   ]
  },
  {
   "cell_type": "markdown",
   "metadata": {
    "id": "ES4Z4-00PPwE"
   },
   "source": [
    "### Green and Ho data\n",
    "\n",
    "Consider the dataset reported by Greene and Ho (2006), containing the features of 88 galaxies. \n",
    "\n",
    "Greene, J. E. and Ho, L. C. *The MBH − σ∗ Relation in Local Active Galaxies*. ApJ 641 L21 (2006)\n",
    "https://ui.adsabs.harvard.edu/abs/2006ApJ...641L..21G/abstract\n",
    "\n",
    "The dataset is available online in various formats at\n",
    "\n",
    "http://vizier.cfa.harvard.edu/viz-bin/VizieR?-source=J/ApJ/641/L21.\n",
    "\n",
    "\n",
    "We read the data using the `astropy.io.ascii` function."
   ]
  },
  {
   "cell_type": "code",
   "execution_count": 2,
   "metadata": {
    "colab": {
     "base_uri": "https://localhost:8080/",
     "height": 519
    },
    "executionInfo": {
     "elapsed": 2709,
     "status": "ok",
     "timestamp": 1618151618563,
     "user": {
      "displayName": "Eduard Alexis Larranaga",
      "photoUrl": "https://lh3.googleusercontent.com/a-/AOh14GgCVABzEgj-rCdyxWa29RnA0kIYUCXAaVbnRYOEhQ=s64",
      "userId": "04402438389940282602"
     },
     "user_tz": 300
    },
    "id": "fwgsuY3NPPwE",
    "outputId": "6139aafc-99a0-4aae-9133-d702af41f33e"
   },
   "outputs": [
    {
     "data": {
      "text/html": [
       "<div><i>Table length=88</i>\n",
       "<table id=\"table4596063440\" class=\"table-striped table-bordered table-condensed\">\n",
       "<thead><tr><th>Name</th><th>z</th><th>sigma*</th><th>e_sigma*</th><th>n_sigma*</th><th>FWHM</th><th>e_FWHM</th><th>logL</th><th>e_logL</th><th>logM</th><th>E_logM</th><th>e_logM</th></tr></thead>\n",
       "<thead><tr><th></th><th></th><th>km / s</th><th>km / s</th><th></th><th>km / s</th><th>km / s</th><th>[10-7W]</th><th>[10-7W]</th><th>dex(Msun)</th><th>dex(Msun)</th><th>dex(Msun)</th></tr></thead>\n",
       "<thead><tr><th>str24</th><th>float64</th><th>float64</th><th>float64</th><th>str1</th><th>int64</th><th>int64</th><th>float64</th><th>float64</th><th>float64</th><th>float64</th><th>float64</th></tr></thead>\n",
       "<tr><td>SDSS J000805.62+145023.4</td><td>0.0454</td><td>140.0</td><td>27.0</td><td>--</td><td>7610</td><td>380</td><td>41.13</td><td>0.04</td><td>7.7</td><td>--</td><td>0.1</td></tr>\n",
       "<tr><td>SDSS J004236.86-104921.8</td><td>0.0419</td><td>78.4</td><td>10.0</td><td>--</td><td>1960</td><td>97</td><td>41.58</td><td>0.14</td><td>6.7</td><td>--</td><td>0.1</td></tr>\n",
       "<tr><td>SDSS J011703.58+000027.3</td><td>0.0456</td><td>98.8</td><td>16.0</td><td>--</td><td>2270</td><td>110</td><td>41.45</td><td>0.08</td><td>6.8</td><td>--</td><td>0.1</td></tr>\n",
       "<tr><td>SDSS J020459.25-080816.0</td><td>0.0772</td><td>121.0</td><td>9.4</td><td>a</td><td>3720</td><td>180</td><td>41.13</td><td>0.05</td><td>7.0</td><td>--</td><td>0.1</td></tr>\n",
       "<tr><td>SDSS J020615.99-001729.1</td><td>0.0426</td><td>216.0</td><td>30.0</td><td>--</td><td>3860</td><td>190</td><td>41.91</td><td>0.07</td><td>7.5</td><td>--</td><td>0.1</td></tr>\n",
       "<tr><td>SDSS J021011.49-090335.5</td><td>0.0414</td><td>122.0</td><td>12.0</td><td>a</td><td>2450</td><td>120</td><td>41.24</td><td>0.07</td><td>6.7</td><td>--</td><td>0.1</td></tr>\n",
       "<tr><td>...</td><td>...</td><td>...</td><td>...</td><td>...</td><td>...</td><td>...</td><td>...</td><td>...</td><td>...</td><td>...</td><td>...</td></tr>\n",
       "<tr><td>NGC 4051</td><td>0.00234</td><td>88.9</td><td>2.9</td><td>--</td><td>--</td><td>--</td><td>--</td><td>--</td><td>5.99</td><td>0.17</td><td>0.2</td></tr>\n",
       "<tr><td>NGC 4151</td><td>0.00332</td><td>96.8</td><td>2.9</td><td>--</td><td>--</td><td>--</td><td>--</td><td>--</td><td>6.91</td><td>0.17</td><td>0.29</td></tr>\n",
       "<tr><td>NGC 5548</td><td>0.0172</td><td>198.0</td><td>11.0</td><td>--</td><td>--</td><td>--</td><td>--</td><td>--</td><td>7.81</td><td>0.02</td><td>0.02</td></tr>\n",
       "<tr><td>NGC 7469</td><td>0.0163</td><td>133.0</td><td>4.8</td><td>--</td><td>--</td><td>--</td><td>--</td><td>--</td><td>6.49</td><td>0.16</td><td>0.27</td></tr>\n",
       "<tr><td>POX 52</td><td>0.0218</td><td>36.0</td><td>5.0</td><td>--</td><td>--</td><td>--</td><td>--</td><td>--</td><td>5.2</td><td>--</td><td>0.3</td></tr>\n",
       "<tr><td>NGC 4395</td><td>0.000947</td><td>30.0</td><td>5.0</td><td>--</td><td>--</td><td>--</td><td>--</td><td>--</td><td>4.9</td><td>--</td><td>0.4</td></tr>\n",
       "</table></div>"
      ],
      "text/plain": [
       "<Table length=88>\n",
       "          Name              z      sigma* ...    logM     E_logM    e_logM \n",
       "                                   km / s ... dex(Msun) dex(Msun) dex(Msun)\n",
       "         str24           float64  float64 ...  float64   float64   float64 \n",
       "------------------------ -------- ------- ... --------- --------- ---------\n",
       "SDSS J000805.62+145023.4   0.0454   140.0 ...       7.7        --       0.1\n",
       "SDSS J004236.86-104921.8   0.0419    78.4 ...       6.7        --       0.1\n",
       "SDSS J011703.58+000027.3   0.0456    98.8 ...       6.8        --       0.1\n",
       "SDSS J020459.25-080816.0   0.0772   121.0 ...       7.0        --       0.1\n",
       "SDSS J020615.99-001729.1   0.0426   216.0 ...       7.5        --       0.1\n",
       "SDSS J021011.49-090335.5   0.0414   122.0 ...       6.7        --       0.1\n",
       "                     ...      ...     ... ...       ...       ...       ...\n",
       "                NGC 4051  0.00234    88.9 ...      5.99      0.17       0.2\n",
       "                NGC 4151  0.00332    96.8 ...      6.91      0.17      0.29\n",
       "                NGC 5548   0.0172   198.0 ...      7.81      0.02      0.02\n",
       "                NGC 7469   0.0163   133.0 ...      6.49      0.16      0.27\n",
       "                  POX 52   0.0218    36.0 ...       5.2        --       0.3\n",
       "                NGC 4395 0.000947    30.0 ...       4.9        --       0.4"
      ]
     },
     "execution_count": 2,
     "metadata": {},
     "output_type": "execute_result"
    }
   ],
   "source": [
    "data = ascii.read('SMBHData/table1.dat', readme='SMBHData/ReadMe')\n",
    "data"
   ]
  },
  {
   "cell_type": "markdown",
   "metadata": {
    "id": "6--7SaAZPPwF"
   },
   "source": [
    "Now, we convert the astropy Table to a pandas dataframe using the `.to_pandas()` method. Details at\n",
    "\n",
    "https://docs.astropy.org/en/stable/api/astropy.table.Table.html#astropy.table.Table.to_pandas"
   ]
  },
  {
   "cell_type": "code",
   "execution_count": 3,
   "metadata": {
    "colab": {
     "base_uri": "https://localhost:8080/",
     "height": 419
    },
    "executionInfo": {
     "elapsed": 609,
     "status": "ok",
     "timestamp": 1618151622516,
     "user": {
      "displayName": "Eduard Alexis Larranaga",
      "photoUrl": "https://lh3.googleusercontent.com/a-/AOh14GgCVABzEgj-rCdyxWa29RnA0kIYUCXAaVbnRYOEhQ=s64",
      "userId": "04402438389940282602"
     },
     "user_tz": 300
    },
    "id": "UWctJXYEPPwG",
    "outputId": "83dd0a77-2592-438d-bfd9-9852e6f57ace"
   },
   "outputs": [
    {
     "data": {
      "text/html": [
       "<div>\n",
       "<style scoped>\n",
       "    .dataframe tbody tr th:only-of-type {\n",
       "        vertical-align: middle;\n",
       "    }\n",
       "\n",
       "    .dataframe tbody tr th {\n",
       "        vertical-align: top;\n",
       "    }\n",
       "\n",
       "    .dataframe thead th {\n",
       "        text-align: right;\n",
       "    }\n",
       "</style>\n",
       "<table border=\"1\" class=\"dataframe\">\n",
       "  <thead>\n",
       "    <tr style=\"text-align: right;\">\n",
       "      <th></th>\n",
       "      <th>Name</th>\n",
       "      <th>z</th>\n",
       "      <th>sigma*</th>\n",
       "      <th>e_sigma*</th>\n",
       "      <th>n_sigma*</th>\n",
       "      <th>FWHM</th>\n",
       "      <th>e_FWHM</th>\n",
       "      <th>logL</th>\n",
       "      <th>e_logL</th>\n",
       "      <th>logM</th>\n",
       "      <th>E_logM</th>\n",
       "      <th>e_logM</th>\n",
       "    </tr>\n",
       "  </thead>\n",
       "  <tbody>\n",
       "    <tr>\n",
       "      <th>0</th>\n",
       "      <td>SDSS J000805.62+145023.4</td>\n",
       "      <td>0.045400</td>\n",
       "      <td>140.0</td>\n",
       "      <td>27.0</td>\n",
       "      <td>NaN</td>\n",
       "      <td>7610</td>\n",
       "      <td>380</td>\n",
       "      <td>41.13</td>\n",
       "      <td>0.04</td>\n",
       "      <td>7.70</td>\n",
       "      <td>NaN</td>\n",
       "      <td>0.10</td>\n",
       "    </tr>\n",
       "    <tr>\n",
       "      <th>1</th>\n",
       "      <td>SDSS J004236.86-104921.8</td>\n",
       "      <td>0.041900</td>\n",
       "      <td>78.4</td>\n",
       "      <td>10.0</td>\n",
       "      <td>NaN</td>\n",
       "      <td>1960</td>\n",
       "      <td>97</td>\n",
       "      <td>41.58</td>\n",
       "      <td>0.14</td>\n",
       "      <td>6.70</td>\n",
       "      <td>NaN</td>\n",
       "      <td>0.10</td>\n",
       "    </tr>\n",
       "    <tr>\n",
       "      <th>2</th>\n",
       "      <td>SDSS J011703.58+000027.3</td>\n",
       "      <td>0.045600</td>\n",
       "      <td>98.8</td>\n",
       "      <td>16.0</td>\n",
       "      <td>NaN</td>\n",
       "      <td>2270</td>\n",
       "      <td>110</td>\n",
       "      <td>41.45</td>\n",
       "      <td>0.08</td>\n",
       "      <td>6.80</td>\n",
       "      <td>NaN</td>\n",
       "      <td>0.10</td>\n",
       "    </tr>\n",
       "    <tr>\n",
       "      <th>3</th>\n",
       "      <td>SDSS J020459.25-080816.0</td>\n",
       "      <td>0.077200</td>\n",
       "      <td>121.0</td>\n",
       "      <td>9.4</td>\n",
       "      <td>a</td>\n",
       "      <td>3720</td>\n",
       "      <td>180</td>\n",
       "      <td>41.13</td>\n",
       "      <td>0.05</td>\n",
       "      <td>7.00</td>\n",
       "      <td>NaN</td>\n",
       "      <td>0.10</td>\n",
       "    </tr>\n",
       "    <tr>\n",
       "      <th>4</th>\n",
       "      <td>SDSS J020615.99-001729.1</td>\n",
       "      <td>0.042600</td>\n",
       "      <td>216.0</td>\n",
       "      <td>30.0</td>\n",
       "      <td>NaN</td>\n",
       "      <td>3860</td>\n",
       "      <td>190</td>\n",
       "      <td>41.91</td>\n",
       "      <td>0.07</td>\n",
       "      <td>7.50</td>\n",
       "      <td>NaN</td>\n",
       "      <td>0.10</td>\n",
       "    </tr>\n",
       "    <tr>\n",
       "      <th>...</th>\n",
       "      <td>...</td>\n",
       "      <td>...</td>\n",
       "      <td>...</td>\n",
       "      <td>...</td>\n",
       "      <td>...</td>\n",
       "      <td>...</td>\n",
       "      <td>...</td>\n",
       "      <td>...</td>\n",
       "      <td>...</td>\n",
       "      <td>...</td>\n",
       "      <td>...</td>\n",
       "      <td>...</td>\n",
       "    </tr>\n",
       "    <tr>\n",
       "      <th>83</th>\n",
       "      <td>NGC 4151</td>\n",
       "      <td>0.003320</td>\n",
       "      <td>96.8</td>\n",
       "      <td>2.9</td>\n",
       "      <td>NaN</td>\n",
       "      <td>&lt;NA&gt;</td>\n",
       "      <td>&lt;NA&gt;</td>\n",
       "      <td>NaN</td>\n",
       "      <td>NaN</td>\n",
       "      <td>6.91</td>\n",
       "      <td>0.17</td>\n",
       "      <td>0.29</td>\n",
       "    </tr>\n",
       "    <tr>\n",
       "      <th>84</th>\n",
       "      <td>NGC 5548</td>\n",
       "      <td>0.017200</td>\n",
       "      <td>198.0</td>\n",
       "      <td>11.0</td>\n",
       "      <td>NaN</td>\n",
       "      <td>&lt;NA&gt;</td>\n",
       "      <td>&lt;NA&gt;</td>\n",
       "      <td>NaN</td>\n",
       "      <td>NaN</td>\n",
       "      <td>7.81</td>\n",
       "      <td>0.02</td>\n",
       "      <td>0.02</td>\n",
       "    </tr>\n",
       "    <tr>\n",
       "      <th>85</th>\n",
       "      <td>NGC 7469</td>\n",
       "      <td>0.016300</td>\n",
       "      <td>133.0</td>\n",
       "      <td>4.8</td>\n",
       "      <td>NaN</td>\n",
       "      <td>&lt;NA&gt;</td>\n",
       "      <td>&lt;NA&gt;</td>\n",
       "      <td>NaN</td>\n",
       "      <td>NaN</td>\n",
       "      <td>6.49</td>\n",
       "      <td>0.16</td>\n",
       "      <td>0.27</td>\n",
       "    </tr>\n",
       "    <tr>\n",
       "      <th>86</th>\n",
       "      <td>POX 52</td>\n",
       "      <td>0.021800</td>\n",
       "      <td>36.0</td>\n",
       "      <td>5.0</td>\n",
       "      <td>NaN</td>\n",
       "      <td>&lt;NA&gt;</td>\n",
       "      <td>&lt;NA&gt;</td>\n",
       "      <td>NaN</td>\n",
       "      <td>NaN</td>\n",
       "      <td>5.20</td>\n",
       "      <td>NaN</td>\n",
       "      <td>0.30</td>\n",
       "    </tr>\n",
       "    <tr>\n",
       "      <th>87</th>\n",
       "      <td>NGC 4395</td>\n",
       "      <td>0.000947</td>\n",
       "      <td>30.0</td>\n",
       "      <td>5.0</td>\n",
       "      <td>NaN</td>\n",
       "      <td>&lt;NA&gt;</td>\n",
       "      <td>&lt;NA&gt;</td>\n",
       "      <td>NaN</td>\n",
       "      <td>NaN</td>\n",
       "      <td>4.90</td>\n",
       "      <td>NaN</td>\n",
       "      <td>0.40</td>\n",
       "    </tr>\n",
       "  </tbody>\n",
       "</table>\n",
       "<p>88 rows × 12 columns</p>\n",
       "</div>"
      ],
      "text/plain": [
       "                        Name         z  sigma*  e_sigma* n_sigma*  FWHM  \\\n",
       "0   SDSS J000805.62+145023.4  0.045400   140.0      27.0      NaN  7610   \n",
       "1   SDSS J004236.86-104921.8  0.041900    78.4      10.0      NaN  1960   \n",
       "2   SDSS J011703.58+000027.3  0.045600    98.8      16.0      NaN  2270   \n",
       "3   SDSS J020459.25-080816.0  0.077200   121.0       9.4        a  3720   \n",
       "4   SDSS J020615.99-001729.1  0.042600   216.0      30.0      NaN  3860   \n",
       "..                       ...       ...     ...       ...      ...   ...   \n",
       "83                  NGC 4151  0.003320    96.8       2.9      NaN  <NA>   \n",
       "84                  NGC 5548  0.017200   198.0      11.0      NaN  <NA>   \n",
       "85                  NGC 7469  0.016300   133.0       4.8      NaN  <NA>   \n",
       "86                    POX 52  0.021800    36.0       5.0      NaN  <NA>   \n",
       "87                  NGC 4395  0.000947    30.0       5.0      NaN  <NA>   \n",
       "\n",
       "    e_FWHM   logL  e_logL  logM  E_logM  e_logM  \n",
       "0      380  41.13    0.04  7.70     NaN    0.10  \n",
       "1       97  41.58    0.14  6.70     NaN    0.10  \n",
       "2      110  41.45    0.08  6.80     NaN    0.10  \n",
       "3      180  41.13    0.05  7.00     NaN    0.10  \n",
       "4      190  41.91    0.07  7.50     NaN    0.10  \n",
       "..     ...    ...     ...   ...     ...     ...  \n",
       "83    <NA>    NaN     NaN  6.91    0.17    0.29  \n",
       "84    <NA>    NaN     NaN  7.81    0.02    0.02  \n",
       "85    <NA>    NaN     NaN  6.49    0.16    0.27  \n",
       "86    <NA>    NaN     NaN  5.20     NaN    0.30  \n",
       "87    <NA>    NaN     NaN  4.90     NaN    0.40  \n",
       "\n",
       "[88 rows x 12 columns]"
      ]
     },
     "execution_count": 3,
     "metadata": {},
     "output_type": "execute_result"
    }
   ],
   "source": [
    "df = data.to_pandas()\n",
    "df"
   ]
  },
  {
   "cell_type": "code",
   "execution_count": 4,
   "metadata": {
    "colab": {
     "base_uri": "https://localhost:8080/",
     "height": 297
    },
    "executionInfo": {
     "elapsed": 437,
     "status": "ok",
     "timestamp": 1618151624565,
     "user": {
      "displayName": "Eduard Alexis Larranaga",
      "photoUrl": "https://lh3.googleusercontent.com/a-/AOh14GgCVABzEgj-rCdyxWa29RnA0kIYUCXAaVbnRYOEhQ=s64",
      "userId": "04402438389940282602"
     },
     "user_tz": 300
    },
    "id": "5V-QU9_6PPwG",
    "outputId": "f1fceff8-33fa-44c3-cce0-ad5810c980cd"
   },
   "outputs": [
    {
     "data": {
      "text/html": [
       "<div>\n",
       "<style scoped>\n",
       "    .dataframe tbody tr th:only-of-type {\n",
       "        vertical-align: middle;\n",
       "    }\n",
       "\n",
       "    .dataframe tbody tr th {\n",
       "        vertical-align: top;\n",
       "    }\n",
       "\n",
       "    .dataframe thead th {\n",
       "        text-align: right;\n",
       "    }\n",
       "</style>\n",
       "<table border=\"1\" class=\"dataframe\">\n",
       "  <thead>\n",
       "    <tr style=\"text-align: right;\">\n",
       "      <th></th>\n",
       "      <th>z</th>\n",
       "      <th>sigma*</th>\n",
       "      <th>e_sigma*</th>\n",
       "      <th>FWHM</th>\n",
       "      <th>e_FWHM</th>\n",
       "      <th>logL</th>\n",
       "      <th>e_logL</th>\n",
       "      <th>logM</th>\n",
       "      <th>E_logM</th>\n",
       "      <th>e_logM</th>\n",
       "    </tr>\n",
       "  </thead>\n",
       "  <tbody>\n",
       "    <tr>\n",
       "      <th>count</th>\n",
       "      <td>88.000000</td>\n",
       "      <td>88.000000</td>\n",
       "      <td>88.000000</td>\n",
       "      <td>71.000000</td>\n",
       "      <td>71.000000</td>\n",
       "      <td>71.000000</td>\n",
       "      <td>71.000000</td>\n",
       "      <td>88.00000</td>\n",
       "      <td>15.000000</td>\n",
       "      <td>88.000000</td>\n",
       "    </tr>\n",
       "    <tr>\n",
       "      <th>mean</th>\n",
       "      <td>0.048665</td>\n",
       "      <td>117.142045</td>\n",
       "      <td>11.805682</td>\n",
       "      <td>3206.056338</td>\n",
       "      <td>210.760563</td>\n",
       "      <td>41.504225</td>\n",
       "      <td>0.078028</td>\n",
       "      <td>6.86625</td>\n",
       "      <td>0.140667</td>\n",
       "      <td>0.189886</td>\n",
       "    </tr>\n",
       "    <tr>\n",
       "      <th>std</th>\n",
       "      <td>0.032562</td>\n",
       "      <td>48.285108</td>\n",
       "      <td>5.308383</td>\n",
       "      <td>1759.679743</td>\n",
       "      <td>191.219953</td>\n",
       "      <td>0.663268</td>\n",
       "      <td>0.041700</td>\n",
       "      <td>0.72825</td>\n",
       "      <td>0.074303</td>\n",
       "      <td>0.172470</td>\n",
       "    </tr>\n",
       "    <tr>\n",
       "      <th>min</th>\n",
       "      <td>0.000947</td>\n",
       "      <td>30.000000</td>\n",
       "      <td>2.900000</td>\n",
       "      <td>810.000000</td>\n",
       "      <td>41.000000</td>\n",
       "      <td>40.100000</td>\n",
       "      <td>0.030000</td>\n",
       "      <td>4.90000</td>\n",
       "      <td>0.020000</td>\n",
       "      <td>0.020000</td>\n",
       "    </tr>\n",
       "    <tr>\n",
       "      <th>25%</th>\n",
       "      <td>0.027750</td>\n",
       "      <td>87.025000</td>\n",
       "      <td>7.750000</td>\n",
       "      <td>1905.000000</td>\n",
       "      <td>110.000000</td>\n",
       "      <td>41.155000</td>\n",
       "      <td>0.050000</td>\n",
       "      <td>6.30000</td>\n",
       "      <td>0.100000</td>\n",
       "      <td>0.100000</td>\n",
       "    </tr>\n",
       "    <tr>\n",
       "      <th>50%</th>\n",
       "      <td>0.042250</td>\n",
       "      <td>113.500000</td>\n",
       "      <td>12.000000</td>\n",
       "      <td>2970.000000</td>\n",
       "      <td>160.000000</td>\n",
       "      <td>41.510000</td>\n",
       "      <td>0.070000</td>\n",
       "      <td>7.00000</td>\n",
       "      <td>0.120000</td>\n",
       "      <td>0.100000</td>\n",
       "    </tr>\n",
       "    <tr>\n",
       "      <th>75%</th>\n",
       "      <td>0.062200</td>\n",
       "      <td>139.250000</td>\n",
       "      <td>15.000000</td>\n",
       "      <td>3870.000000</td>\n",
       "      <td>210.000000</td>\n",
       "      <td>41.860000</td>\n",
       "      <td>0.090000</td>\n",
       "      <td>7.40750</td>\n",
       "      <td>0.170000</td>\n",
       "      <td>0.200000</td>\n",
       "    </tr>\n",
       "    <tr>\n",
       "      <th>max</th>\n",
       "      <td>0.184000</td>\n",
       "      <td>268.000000</td>\n",
       "      <td>30.000000</td>\n",
       "      <td>8240.000000</td>\n",
       "      <td>1190.000000</td>\n",
       "      <td>43.610000</td>\n",
       "      <td>0.200000</td>\n",
       "      <td>8.52000</td>\n",
       "      <td>0.310000</td>\n",
       "      <td>1.060000</td>\n",
       "    </tr>\n",
       "  </tbody>\n",
       "</table>\n",
       "</div>"
      ],
      "text/plain": [
       "               z      sigma*   e_sigma*         FWHM       e_FWHM       logL  \\\n",
       "count  88.000000   88.000000  88.000000    71.000000    71.000000  71.000000   \n",
       "mean    0.048665  117.142045  11.805682  3206.056338   210.760563  41.504225   \n",
       "std     0.032562   48.285108   5.308383  1759.679743   191.219953   0.663268   \n",
       "min     0.000947   30.000000   2.900000   810.000000    41.000000  40.100000   \n",
       "25%     0.027750   87.025000   7.750000  1905.000000   110.000000  41.155000   \n",
       "50%     0.042250  113.500000  12.000000  2970.000000   160.000000  41.510000   \n",
       "75%     0.062200  139.250000  15.000000  3870.000000   210.000000  41.860000   \n",
       "max     0.184000  268.000000  30.000000  8240.000000  1190.000000  43.610000   \n",
       "\n",
       "          e_logL      logM     E_logM     e_logM  \n",
       "count  71.000000  88.00000  15.000000  88.000000  \n",
       "mean    0.078028   6.86625   0.140667   0.189886  \n",
       "std     0.041700   0.72825   0.074303   0.172470  \n",
       "min     0.030000   4.90000   0.020000   0.020000  \n",
       "25%     0.050000   6.30000   0.100000   0.100000  \n",
       "50%     0.070000   7.00000   0.120000   0.100000  \n",
       "75%     0.090000   7.40750   0.170000   0.200000  \n",
       "max     0.200000   8.52000   0.310000   1.060000  "
      ]
     },
     "execution_count": 4,
     "metadata": {},
     "output_type": "execute_result"
    }
   ],
   "source": [
    "df.describe()"
   ]
  },
  {
   "cell_type": "markdown",
   "metadata": {
    "id": "Adw0q1r1PPwH"
   },
   "source": [
    "The dataframe includes data from 88 supermassive black holes. The columns correspond to\n",
    "\n",
    "**z** : Redshift \\\n",
    "**sigma**\\* : Stellar velocity dispersion \\\n",
    "**e_sigma**\\* : Formal uncertainty in sigma* \\\n",
    "**FWHM** : H<sub>$\\alpha$</sub> Full-Width at Half Maximum \\\n",
    "**e_FWHM** : Formal uncertainty in FWHM \\\n",
    "**logL** : $\\log_{10}$ of H<sub>$\\alpha$</sub> luminosity in erg/s \\\n",
    "**e_logL** : Formal uncertainty in logL \\\n",
    "**logM** : $\\log_{10}$ of the Black Hole mass \\\n",
    "**E_logM** : Formal (upper limit) uncertainty in logM \\\n",
    "**e_logM** : Formal (lower limit) uncertainty in logM \n"
   ]
  },
  {
   "cell_type": "markdown",
   "metadata": {
    "id": "rgzWsu3QPPwH"
   },
   "source": [
    "We will make a linear fit between the variables $\\log M$ and $\\log \\left( \\frac{\\sigma_*}{\\sigma_0} \\right)$ and between the varibles $\\log M$ and $\\log  \\text{FWHM} $, where $\\sigma_0 = 200.$ is a reference value given by the authors. Hence, we add the corresponding columns to the dataframe."
   ]
  },
  {
   "cell_type": "code",
   "execution_count": 5,
   "metadata": {
    "colab": {
     "base_uri": "https://localhost:8080/",
     "height": 297
    },
    "executionInfo": {
     "elapsed": 458,
     "status": "ok",
     "timestamp": 1618151627993,
     "user": {
      "displayName": "Eduard Alexis Larranaga",
      "photoUrl": "https://lh3.googleusercontent.com/a-/AOh14GgCVABzEgj-rCdyxWa29RnA0kIYUCXAaVbnRYOEhQ=s64",
      "userId": "04402438389940282602"
     },
     "user_tz": 300
    },
    "id": "K13_K0VtPPwI",
    "outputId": "854dd962-32c8-47c7-e9ea-a63b335e6a3b"
   },
   "outputs": [
    {
     "data": {
      "text/html": [
       "<div>\n",
       "<style scoped>\n",
       "    .dataframe tbody tr th:only-of-type {\n",
       "        vertical-align: middle;\n",
       "    }\n",
       "\n",
       "    .dataframe tbody tr th {\n",
       "        vertical-align: top;\n",
       "    }\n",
       "\n",
       "    .dataframe thead th {\n",
       "        text-align: right;\n",
       "    }\n",
       "</style>\n",
       "<table border=\"1\" class=\"dataframe\">\n",
       "  <thead>\n",
       "    <tr style=\"text-align: right;\">\n",
       "      <th></th>\n",
       "      <th>z</th>\n",
       "      <th>sigma*</th>\n",
       "      <th>e_sigma*</th>\n",
       "      <th>FWHM</th>\n",
       "      <th>e_FWHM</th>\n",
       "      <th>logL</th>\n",
       "      <th>e_logL</th>\n",
       "      <th>logM</th>\n",
       "      <th>E_logM</th>\n",
       "      <th>e_logM</th>\n",
       "      <th>logsigma*</th>\n",
       "      <th>logFWHM</th>\n",
       "    </tr>\n",
       "  </thead>\n",
       "  <tbody>\n",
       "    <tr>\n",
       "      <th>count</th>\n",
       "      <td>88.000000</td>\n",
       "      <td>88.000000</td>\n",
       "      <td>88.000000</td>\n",
       "      <td>71.000000</td>\n",
       "      <td>71.000000</td>\n",
       "      <td>71.000000</td>\n",
       "      <td>71.000000</td>\n",
       "      <td>88.00000</td>\n",
       "      <td>15.000000</td>\n",
       "      <td>88.000000</td>\n",
       "      <td>88.000000</td>\n",
       "      <td>71.000000</td>\n",
       "    </tr>\n",
       "    <tr>\n",
       "      <th>mean</th>\n",
       "      <td>0.048665</td>\n",
       "      <td>117.142045</td>\n",
       "      <td>11.805682</td>\n",
       "      <td>3206.056338</td>\n",
       "      <td>210.760563</td>\n",
       "      <td>41.504225</td>\n",
       "      <td>0.078028</td>\n",
       "      <td>6.86625</td>\n",
       "      <td>0.140667</td>\n",
       "      <td>0.189886</td>\n",
       "      <td>-0.272206</td>\n",
       "      <td>3.440999</td>\n",
       "    </tr>\n",
       "    <tr>\n",
       "      <th>std</th>\n",
       "      <td>0.032562</td>\n",
       "      <td>48.285108</td>\n",
       "      <td>5.308383</td>\n",
       "      <td>1759.679743</td>\n",
       "      <td>191.219953</td>\n",
       "      <td>0.663268</td>\n",
       "      <td>0.041700</td>\n",
       "      <td>0.72825</td>\n",
       "      <td>0.074303</td>\n",
       "      <td>0.172470</td>\n",
       "      <td>0.195820</td>\n",
       "      <td>0.246118</td>\n",
       "    </tr>\n",
       "    <tr>\n",
       "      <th>min</th>\n",
       "      <td>0.000947</td>\n",
       "      <td>30.000000</td>\n",
       "      <td>2.900000</td>\n",
       "      <td>810.000000</td>\n",
       "      <td>41.000000</td>\n",
       "      <td>40.100000</td>\n",
       "      <td>0.030000</td>\n",
       "      <td>4.90000</td>\n",
       "      <td>0.020000</td>\n",
       "      <td>0.020000</td>\n",
       "      <td>-0.823909</td>\n",
       "      <td>2.908485</td>\n",
       "    </tr>\n",
       "    <tr>\n",
       "      <th>25%</th>\n",
       "      <td>0.027750</td>\n",
       "      <td>87.025000</td>\n",
       "      <td>7.750000</td>\n",
       "      <td>1905.000000</td>\n",
       "      <td>110.000000</td>\n",
       "      <td>41.155000</td>\n",
       "      <td>0.050000</td>\n",
       "      <td>6.30000</td>\n",
       "      <td>0.100000</td>\n",
       "      <td>0.100000</td>\n",
       "      <td>-0.361386</td>\n",
       "      <td>3.279893</td>\n",
       "    </tr>\n",
       "    <tr>\n",
       "      <th>50%</th>\n",
       "      <td>0.042250</td>\n",
       "      <td>113.500000</td>\n",
       "      <td>12.000000</td>\n",
       "      <td>2970.000000</td>\n",
       "      <td>160.000000</td>\n",
       "      <td>41.510000</td>\n",
       "      <td>0.070000</td>\n",
       "      <td>7.00000</td>\n",
       "      <td>0.120000</td>\n",
       "      <td>0.100000</td>\n",
       "      <td>-0.246038</td>\n",
       "      <td>3.472756</td>\n",
       "    </tr>\n",
       "    <tr>\n",
       "      <th>75%</th>\n",
       "      <td>0.062200</td>\n",
       "      <td>139.250000</td>\n",
       "      <td>15.000000</td>\n",
       "      <td>3870.000000</td>\n",
       "      <td>210.000000</td>\n",
       "      <td>41.860000</td>\n",
       "      <td>0.090000</td>\n",
       "      <td>7.40750</td>\n",
       "      <td>0.170000</td>\n",
       "      <td>0.200000</td>\n",
       "      <td>-0.157237</td>\n",
       "      <td>3.587710</td>\n",
       "    </tr>\n",
       "    <tr>\n",
       "      <th>max</th>\n",
       "      <td>0.184000</td>\n",
       "      <td>268.000000</td>\n",
       "      <td>30.000000</td>\n",
       "      <td>8240.000000</td>\n",
       "      <td>1190.000000</td>\n",
       "      <td>43.610000</td>\n",
       "      <td>0.200000</td>\n",
       "      <td>8.52000</td>\n",
       "      <td>0.310000</td>\n",
       "      <td>1.060000</td>\n",
       "      <td>0.127105</td>\n",
       "      <td>3.915927</td>\n",
       "    </tr>\n",
       "  </tbody>\n",
       "</table>\n",
       "</div>"
      ],
      "text/plain": [
       "               z      sigma*   e_sigma*         FWHM       e_FWHM       logL  \\\n",
       "count  88.000000   88.000000  88.000000    71.000000    71.000000  71.000000   \n",
       "mean    0.048665  117.142045  11.805682  3206.056338   210.760563  41.504225   \n",
       "std     0.032562   48.285108   5.308383  1759.679743   191.219953   0.663268   \n",
       "min     0.000947   30.000000   2.900000   810.000000    41.000000  40.100000   \n",
       "25%     0.027750   87.025000   7.750000  1905.000000   110.000000  41.155000   \n",
       "50%     0.042250  113.500000  12.000000  2970.000000   160.000000  41.510000   \n",
       "75%     0.062200  139.250000  15.000000  3870.000000   210.000000  41.860000   \n",
       "max     0.184000  268.000000  30.000000  8240.000000  1190.000000  43.610000   \n",
       "\n",
       "          e_logL      logM     E_logM     e_logM  logsigma*    logFWHM  \n",
       "count  71.000000  88.00000  15.000000  88.000000  88.000000  71.000000  \n",
       "mean    0.078028   6.86625   0.140667   0.189886  -0.272206   3.440999  \n",
       "std     0.041700   0.72825   0.074303   0.172470   0.195820   0.246118  \n",
       "min     0.030000   4.90000   0.020000   0.020000  -0.823909   2.908485  \n",
       "25%     0.050000   6.30000   0.100000   0.100000  -0.361386   3.279893  \n",
       "50%     0.070000   7.00000   0.120000   0.100000  -0.246038   3.472756  \n",
       "75%     0.090000   7.40750   0.170000   0.200000  -0.157237   3.587710  \n",
       "max     0.200000   8.52000   0.310000   1.060000   0.127105   3.915927  "
      ]
     },
     "execution_count": 5,
     "metadata": {},
     "output_type": "execute_result"
    }
   ],
   "source": [
    "sigma0 = 200.\n",
    "df['logsigma*'] = np.log10(df['sigma*']/sigma0)\n",
    "df['logFWHM'] = np.log10(df['FWHM'])\n",
    "df.describe()"
   ]
  },
  {
   "cell_type": "code",
   "execution_count": 7,
   "metadata": {
    "colab": {
     "base_uri": "https://localhost:8080/",
     "height": 348
    },
    "executionInfo": {
     "elapsed": 1372,
     "status": "ok",
     "timestamp": 1618151631906,
     "user": {
      "displayName": "Eduard Alexis Larranaga",
      "photoUrl": "https://lh3.googleusercontent.com/a-/AOh14GgCVABzEgj-rCdyxWa29RnA0kIYUCXAaVbnRYOEhQ=s64",
      "userId": "04402438389940282602"
     },
     "user_tz": 300
    },
    "id": "NT7gFyYAPPwI",
    "outputId": "06908d56-98c4-4a97-eecc-8aa7c895bffc"
   },
   "outputs": [
    {
     "data": {
      "image/png": "[encoded data removed]",
      "text/plain": [
       "<Figure size 1008x360 with 2 Axes>"
      ]
     },
     "metadata": {
      "needs_background": "light"
     },
     "output_type": "display_data"
    }
   ],
   "source": [
    "\n",
    "fig, ax = plt.subplots(1,2, figsize=(14,5))\n",
    "ax[0].scatter(df['logsigma*'], df['logM'])\n",
    "ax[0].set_xlabel(r'$\\log _{10} \\left(\\frac{\\sigma_*}{\\sigma_0} \\right)$')\n",
    "ax[0].set_ylabel(r'$\\log _{10} \\left(\\frac{M}{M_{\\odot}} \\right)$')\n",
    "\n",
    "#ax[1].scatter(df['logFWHM'], df['logM'])\n",
    "ax[1].set_xlabel(r'$\\log _{10}$FWHM')\n",
    "ax[1].set_ylabel(r'$\\log _{10} \\left(\\frac{M}{M_{\\odot}} \\right)$')\n",
    "\n",
    "plt.show()"
   ]
  },
  {
   "cell_type": "markdown",
   "metadata": {
    "id": "G1BOpUEtPPwJ"
   },
   "source": [
    "### Linear Fit using  `scikit-learn`\n",
    "\n",
    "From the `scikit-learn.linear_model` package, we will import the function `LinearRegression`. Complete documentation about it can be found at\n",
    "\n",
    "https://scikit-learn.org/stable/modules/generated/sklearn.linear_model.LinearRegression.html\n",
    "\n",
    "This function fits a linear model to minimize the residual sum of squares between the observed targets in the dataset and the targets predicted by the linear approximation (ordinary least squares fit).\n",
    "\n",
    "Before making the fit, we need to prepare our data. In order to apply the fit easily, we will define two new dataframes with the important features for the linear model. It is usual to use the capital letter X to identify the independent parameter data, because in general it is an array (for multidimensional fit)."
   ]
  },
  {
   "cell_type": "markdown",
   "metadata": {
    "id": "YHRzx2nOPPwJ"
   },
   "source": [
    "### The $M_{BH}$ - $\\sigma_*$ Relation"
   ]
  },
  {
   "cell_type": "code",
   "execution_count": 8,
   "metadata": {
    "executionInfo": {
     "elapsed": 530,
     "status": "ok",
     "timestamp": 1618151636616,
     "user": {
      "displayName": "Eduard Alexis Larranaga",
      "photoUrl": "https://lh3.googleusercontent.com/a-/AOh14GgCVABzEgj-rCdyxWa29RnA0kIYUCXAaVbnRYOEhQ=s64",
      "userId": "04402438389940282602"
     },
     "user_tz": 300
    },
    "id": "sjua6EaqPPwJ"
   },
   "outputs": [],
   "source": [
    "Xdf = df[['logsigma*']]\n",
    "ydf = df[['logM']]"
   ]
  },
  {
   "cell_type": "markdown",
   "metadata": {
    "id": "d9d_6VHiPPwK"
   },
   "source": [
    "Lets check that all 88 samples have both values (if there is a missing value, we have to handle that sample in some way) "
   ]
  },
  {
   "cell_type": "code",
   "execution_count": 9,
   "metadata": {
    "colab": {
     "base_uri": "https://localhost:8080/",
     "height": 297
    },
    "executionInfo": {
     "elapsed": 284,
     "status": "ok",
     "timestamp": 1618151639642,
     "user": {
      "displayName": "Eduard Alexis Larranaga",
      "photoUrl": "https://lh3.googleusercontent.com/a-/AOh14GgCVABzEgj-rCdyxWa29RnA0kIYUCXAaVbnRYOEhQ=s64",
      "userId": "04402438389940282602"
     },
     "user_tz": 300
    },
    "id": "ubNYBKCmPPwK",
    "outputId": "61f866cf-75b2-4012-eaab-5262148c9ccc"
   },
   "outputs": [
    {
     "data": {
      "text/html": [
       "<div>\n",
       "<style scoped>\n",
       "    .dataframe tbody tr th:only-of-type {\n",
       "        vertical-align: middle;\n",
       "    }\n",
       "\n",
       "    .dataframe tbody tr th {\n",
       "        vertical-align: top;\n",
       "    }\n",
       "\n",
       "    .dataframe thead th {\n",
       "        text-align: right;\n",
       "    }\n",
       "</style>\n",
       "<table border=\"1\" class=\"dataframe\">\n",
       "  <thead>\n",
       "    <tr style=\"text-align: right;\">\n",
       "      <th></th>\n",
       "      <th>logsigma*</th>\n",
       "    </tr>\n",
       "  </thead>\n",
       "  <tbody>\n",
       "    <tr>\n",
       "      <th>count</th>\n",
       "      <td>88.000000</td>\n",
       "    </tr>\n",
       "    <tr>\n",
       "      <th>mean</th>\n",
       "      <td>-0.272206</td>\n",
       "    </tr>\n",
       "    <tr>\n",
       "      <th>std</th>\n",
       "      <td>0.195820</td>\n",
       "    </tr>\n",
       "    <tr>\n",
       "      <th>min</th>\n",
       "      <td>-0.823909</td>\n",
       "    </tr>\n",
       "    <tr>\n",
       "      <th>25%</th>\n",
       "      <td>-0.361386</td>\n",
       "    </tr>\n",
       "    <tr>\n",
       "      <th>50%</th>\n",
       "      <td>-0.246038</td>\n",
       "    </tr>\n",
       "    <tr>\n",
       "      <th>75%</th>\n",
       "      <td>-0.157237</td>\n",
       "    </tr>\n",
       "    <tr>\n",
       "      <th>max</th>\n",
       "      <td>0.127105</td>\n",
       "    </tr>\n",
       "  </tbody>\n",
       "</table>\n",
       "</div>"
      ],
      "text/plain": [
       "       logsigma*\n",
       "count  88.000000\n",
       "mean   -0.272206\n",
       "std     0.195820\n",
       "min    -0.823909\n",
       "25%    -0.361386\n",
       "50%    -0.246038\n",
       "75%    -0.157237\n",
       "max     0.127105"
      ]
     },
     "execution_count": 9,
     "metadata": {},
     "output_type": "execute_result"
    }
   ],
   "source": [
    "Xdf.describe() "
   ]
  },
  {
   "cell_type": "code",
   "execution_count": 10,
   "metadata": {
    "colab": {
     "base_uri": "https://localhost:8080/",
     "height": 297
    },
    "executionInfo": {
     "elapsed": 402,
     "status": "ok",
     "timestamp": 1618151641952,
     "user": {
      "displayName": "Eduard Alexis Larranaga",
      "photoUrl": "https://lh3.googleusercontent.com/a-/AOh14GgCVABzEgj-rCdyxWa29RnA0kIYUCXAaVbnRYOEhQ=s64",
      "userId": "04402438389940282602"
     },
     "user_tz": 300
    },
    "id": "NPBKm_dBPPwM",
    "outputId": "59f7a78f-fd9a-4cb1-d4a5-676f707fdb60"
   },
   "outputs": [
    {
     "data": {
      "text/html": [
       "<div>\n",
       "<style scoped>\n",
       "    .dataframe tbody tr th:only-of-type {\n",
       "        vertical-align: middle;\n",
       "    }\n",
       "\n",
       "    .dataframe tbody tr th {\n",
       "        vertical-align: top;\n",
       "    }\n",
       "\n",
       "    .dataframe thead th {\n",
       "        text-align: right;\n",
       "    }\n",
       "</style>\n",
       "<table border=\"1\" class=\"dataframe\">\n",
       "  <thead>\n",
       "    <tr style=\"text-align: right;\">\n",
       "      <th></th>\n",
       "      <th>logM</th>\n",
       "    </tr>\n",
       "  </thead>\n",
       "  <tbody>\n",
       "    <tr>\n",
       "      <th>count</th>\n",
       "      <td>88.00000</td>\n",
       "    </tr>\n",
       "    <tr>\n",
       "      <th>mean</th>\n",
       "      <td>6.86625</td>\n",
       "    </tr>\n",
       "    <tr>\n",
       "      <th>std</th>\n",
       "      <td>0.72825</td>\n",
       "    </tr>\n",
       "    <tr>\n",
       "      <th>min</th>\n",
       "      <td>4.90000</td>\n",
       "    </tr>\n",
       "    <tr>\n",
       "      <th>25%</th>\n",
       "      <td>6.30000</td>\n",
       "    </tr>\n",
       "    <tr>\n",
       "      <th>50%</th>\n",
       "      <td>7.00000</td>\n",
       "    </tr>\n",
       "    <tr>\n",
       "      <th>75%</th>\n",
       "      <td>7.40750</td>\n",
       "    </tr>\n",
       "    <tr>\n",
       "      <th>max</th>\n",
       "      <td>8.52000</td>\n",
       "    </tr>\n",
       "  </tbody>\n",
       "</table>\n",
       "</div>"
      ],
      "text/plain": [
       "           logM\n",
       "count  88.00000\n",
       "mean    6.86625\n",
       "std     0.72825\n",
       "min     4.90000\n",
       "25%     6.30000\n",
       "50%     7.00000\n",
       "75%     7.40750\n",
       "max     8.52000"
      ]
     },
     "execution_count": 10,
     "metadata": {},
     "output_type": "execute_result"
    }
   ],
   "source": [
    "ydf.describe()"
   ]
  },
  {
   "cell_type": "markdown",
   "metadata": {
    "id": "YE6soIFtPPwM"
   },
   "source": [
    "Since all samples are OK, we will separate the data frame into two sets, a train set and a test set. We will use the function `train_test_split` function from the `sklearn.model_selection` package. We will use a size of 15% for the test set. More information on this function at\n",
    "\n",
    "https://scikit-learn.org/stable/modules/generated/sklearn.model_selection.train_test_split.html"
   ]
  },
  {
   "cell_type": "code",
   "execution_count": 11,
   "metadata": {
    "executionInfo": {
     "elapsed": 462,
     "status": "ok",
     "timestamp": 1618151650890,
     "user": {
      "displayName": "Eduard Alexis Larranaga",
      "photoUrl": "https://lh3.googleusercontent.com/a-/AOh14GgCVABzEgj-rCdyxWa29RnA0kIYUCXAaVbnRYOEhQ=s64",
      "userId": "04402438389940282602"
     },
     "user_tz": 300
    },
    "id": "t4UMpMQ7PPwM"
   },
   "outputs": [],
   "source": [
    "from sklearn.model_selection import train_test_split\n",
    "\n",
    "X_train, X_test, y_train, y_test = train_test_split(Xdf, ydf, random_state=55, test_size=0.15)"
   ]
  },
  {
   "cell_type": "markdown",
   "metadata": {
    "id": "BVhxa9YoPPwN"
   },
   "source": [
    "Let see what we obtain:"
   ]
  },
  {
   "cell_type": "code",
   "execution_count": 12,
   "metadata": {
    "colab": {
     "base_uri": "https://localhost:8080/"
    },
    "executionInfo": {
     "elapsed": 408,
     "status": "ok",
     "timestamp": 1618151657476,
     "user": {
      "displayName": "Eduard Alexis Larranaga",
      "photoUrl": "https://lh3.googleusercontent.com/a-/AOh14GgCVABzEgj-rCdyxWa29RnA0kIYUCXAaVbnRYOEhQ=s64",
      "userId": "04402438389940282602"
     },
     "user_tz": 300
    },
    "id": "d9-vB4LgPPwN",
    "outputId": "73633454-2b53-4558-aaa2-0651bb95517c",
    "scrolled": true
   },
   "outputs": [
    {
     "data": {
      "text/plain": [
       "((74, 1), (74, 1))"
      ]
     },
     "execution_count": 12,
     "metadata": {},
     "output_type": "execute_result"
    }
   ],
   "source": [
    "X_train.shape , y_train.shape"
   ]
  },
  {
   "cell_type": "code",
   "execution_count": 13,
   "metadata": {
    "colab": {
     "base_uri": "https://localhost:8080/"
    },
    "executionInfo": {
     "elapsed": 765,
     "status": "ok",
     "timestamp": 1618151659333,
     "user": {
      "displayName": "Eduard Alexis Larranaga",
      "photoUrl": "https://lh3.googleusercontent.com/a-/AOh14GgCVABzEgj-rCdyxWa29RnA0kIYUCXAaVbnRYOEhQ=s64",
      "userId": "04402438389940282602"
     },
     "user_tz": 300
    },
    "id": "s6mK7x0_PPwN",
    "outputId": "995bee7f-19e2-4a4a-9374-0584043870fd",
    "scrolled": true
   },
   "outputs": [
    {
     "data": {
      "text/plain": [
       "((14, 1), (14, 1))"
      ]
     },
     "execution_count": 13,
     "metadata": {},
     "output_type": "execute_result"
    }
   ],
   "source": [
    "X_test.shape , y_test.shape"
   ]
  },
  {
   "cell_type": "code",
   "execution_count": 18,
   "metadata": {},
   "outputs": [
    {
     "data": {
      "text/plain": [
       "pandas.core.frame.DataFrame"
      ]
     },
     "execution_count": 18,
     "metadata": {},
     "output_type": "execute_result"
    }
   ],
   "source": [
    "type(X_train)"
   ]
  },
  {
   "cell_type": "markdown",
   "metadata": {
    "id": "e-gEEBWOPPwO"
   },
   "source": [
    "Now, we train the linear model\n",
    "\n",
    "$y = a_1 + a_2 x$ ,\n",
    "\n",
    "with the method `LinearRegression().fit()` and the training data"
   ]
  },
  {
   "cell_type": "code",
   "execution_count": 14,
   "metadata": {
    "executionInfo": {
     "elapsed": 451,
     "status": "ok",
     "timestamp": 1618151662717,
     "user": {
      "displayName": "Eduard Alexis Larranaga",
      "photoUrl": "https://lh3.googleusercontent.com/a-/AOh14GgCVABzEgj-rCdyxWa29RnA0kIYUCXAaVbnRYOEhQ=s64",
      "userId": "04402438389940282602"
     },
     "user_tz": 300
    },
    "id": "AMSWT82mPPwO"
   },
   "outputs": [],
   "source": [
    "lr = LinearRegression().fit(X_train, y_train)"
   ]
  },
  {
   "cell_type": "markdown",
   "metadata": {
    "id": "pOVLlGOBPPwO"
   },
   "source": [
    "The parameters obtained from the lienar fit are recovered with the methods `.intercept_` (for $a_1$) and `.coef_` (for $a_2$)."
   ]
  },
  {
   "cell_type": "code",
   "execution_count": 15,
   "metadata": {
    "colab": {
     "base_uri": "https://localhost:8080/"
    },
    "executionInfo": {
     "elapsed": 512,
     "status": "ok",
     "timestamp": 1618151665342,
     "user": {
      "displayName": "Eduard Alexis Larranaga",
      "photoUrl": "https://lh3.googleusercontent.com/a-/AOh14GgCVABzEgj-rCdyxWa29RnA0kIYUCXAaVbnRYOEhQ=s64",
      "userId": "04402438389940282602"
     },
     "user_tz": 300
    },
    "id": "JHtalb00PPwO",
    "outputId": "f4abcdc6-00ab-4044-fbd9-2c69a323b76a"
   },
   "outputs": [
    {
     "data": {
      "text/plain": [
       "(array([7.68028112]), array([[3.01739501]]))"
      ]
     },
     "execution_count": 15,
     "metadata": {},
     "output_type": "execute_result"
    }
   ],
   "source": [
    "lr.intercept_ , lr.coef_ "
   ]
  },
  {
   "cell_type": "markdown",
   "metadata": {
    "id": "6sehd2ILPPwO"
   },
   "source": [
    "Using the method `.score()`, which returns the coefficient of determination $R^2$ for the model, we obtain for the training and the testing sets the results"
   ]
  },
  {
   "cell_type": "code",
   "execution_count": 16,
   "metadata": {
    "colab": {
     "base_uri": "https://localhost:8080/"
    },
    "executionInfo": {
     "elapsed": 495,
     "status": "ok",
     "timestamp": 1618151668286,
     "user": {
      "displayName": "Eduard Alexis Larranaga",
      "photoUrl": "https://lh3.googleusercontent.com/a-/AOh14GgCVABzEgj-rCdyxWa29RnA0kIYUCXAaVbnRYOEhQ=s64",
      "userId": "04402438389940282602"
     },
     "user_tz": 300
    },
    "id": "3ILjN5QtPPwP",
    "outputId": "6e0b0bda-6fa7-43f7-f84a-68522ed482a4"
   },
   "outputs": [
    {
     "data": {
      "text/plain": [
       "0.6282459735724475"
      ]
     },
     "execution_count": 16,
     "metadata": {},
     "output_type": "execute_result"
    }
   ],
   "source": [
    "lr.score(X_train, y_train)"
   ]
  },
  {
   "cell_type": "code",
   "execution_count": 17,
   "metadata": {
    "colab": {
     "base_uri": "https://localhost:8080/"
    },
    "executionInfo": {
     "elapsed": 415,
     "status": "ok",
     "timestamp": 1618151671273,
     "user": {
      "displayName": "Eduard Alexis Larranaga",
      "photoUrl": "https://lh3.googleusercontent.com/a-/AOh14GgCVABzEgj-rCdyxWa29RnA0kIYUCXAaVbnRYOEhQ=s64",
      "userId": "04402438389940282602"
     },
     "user_tz": 300
    },
    "id": "lFmzhGAiPPwP",
    "outputId": "77da3b91-a343-4246-b4ab-366e63e74529"
   },
   "outputs": [
    {
     "data": {
      "text/plain": [
       "0.5410866675608162"
      ]
     },
     "execution_count": 17,
     "metadata": {},
     "output_type": "execute_result"
    }
   ],
   "source": [
    "lr.score(X_test, y_test)"
   ]
  },
  {
   "cell_type": "markdown",
   "metadata": {
    "id": "lKsDZdvyPPwP"
   },
   "source": [
    "We can also predict the value for the $\\log M$ given some data point(s) $x_{point}$ using the method `.predict()` of the linear model. For example,"
   ]
  },
  {
   "cell_type": "code",
   "execution_count": 19,
   "metadata": {
    "colab": {
     "base_uri": "https://localhost:8080/"
    },
    "executionInfo": {
     "elapsed": 403,
     "status": "ok",
     "timestamp": 1618151674532,
     "user": {
      "displayName": "Eduard Alexis Larranaga",
      "photoUrl": "https://lh3.googleusercontent.com/a-/AOh14GgCVABzEgj-rCdyxWa29RnA0kIYUCXAaVbnRYOEhQ=s64",
      "userId": "04402438389940282602"
     },
     "user_tz": 300
    },
    "id": "cXDeeVkjPPwP",
    "outputId": "33415c67-0592-4045-db9f-6f7dc185894e"
   },
   "outputs": [
    {
     "data": {
      "text/plain": [
       "array([[7.37854162]])"
      ]
     },
     "execution_count": 19,
     "metadata": {},
     "output_type": "execute_result"
    }
   ],
   "source": [
    "X_point = np.array([[-0.1]]) \n",
    "y_point =lr.predict(X_point)\n",
    "y_point"
   ]
  },
  {
   "cell_type": "code",
   "execution_count": 24,
   "metadata": {
    "colab": {
     "base_uri": "https://localhost:8080/"
    },
    "executionInfo": {
     "elapsed": 432,
     "status": "ok",
     "timestamp": 1618151676331,
     "user": {
      "displayName": "Eduard Alexis Larranaga",
      "photoUrl": "https://lh3.googleusercontent.com/a-/AOh14GgCVABzEgj-rCdyxWa29RnA0kIYUCXAaVbnRYOEhQ=s64",
      "userId": "04402438389940282602"
     },
     "user_tz": 300
    },
    "id": "VDqQbFvdPPwQ",
    "outputId": "57e7ce05-62bc-4837-80b4-9ad4d2fd134a"
   },
   "outputs": [
    {
     "data": {
      "text/plain": [
       "array([[7.37854162],\n",
       "       [8.15099474]])"
      ]
     },
     "execution_count": 24,
     "metadata": {},
     "output_type": "execute_result"
    }
   ],
   "source": [
    "X_points = np.array([[-0.1],[0.156]]) \n",
    "y_points =lr.predict(X_points)\n",
    "y_points"
   ]
  },
  {
   "cell_type": "markdown",
   "metadata": {
    "id": "414dQdMBPPwQ"
   },
   "source": [
    "Finally, we plot the linear fit to see the behavior together with the observational data."
   ]
  },
  {
   "cell_type": "code",
   "execution_count": 25,
   "metadata": {
    "colab": {
     "base_uri": "https://localhost:8080/",
     "height": 348
    },
    "executionInfo": {
     "elapsed": 921,
     "status": "ok",
     "timestamp": 1618151692793,
     "user": {
      "displayName": "Eduard Alexis Larranaga",
      "photoUrl": "https://lh3.googleusercontent.com/a-/AOh14GgCVABzEgj-rCdyxWa29RnA0kIYUCXAaVbnRYOEhQ=s64",
      "userId": "04402438389940282602"
     },
     "user_tz": 300
    },
    "id": "KpCqlt4-PPwT",
    "outputId": "00565a39-46ec-4376-e29a-d166f3813035"
   },
   "outputs": [
    {
     "data": {
      "image/png": "[encoded data removed]",
      "text/plain": [
       "<Figure size 360x360 with 1 Axes>"
      ]
     },
     "metadata": {
      "needs_background": "light"
     },
     "output_type": "display_data"
    }
   ],
   "source": [
    "logsigma_range= np.linspace(-0.9, 0.2, 30)\n",
    "logM = lr.intercept_[0] + lr.coef_[0]*logsigma_range\n",
    "\n",
    "\n",
    "plt.figure(figsize=(5,5))\n",
    "plt.scatter(X_train, y_train,label='training data', color='blue')\n",
    "plt.scatter(X_test, y_test,label='test data', color='red')\n",
    "plt.scatter(X_points, y_points,label='predicted value', color='orange')\n",
    "plt.plot(logsigma_range, logM,'--k', label='linear model')\n",
    "\n",
    "plt.xlabel(r'$\\log_{10} \\left(\\frac{\\sigma_*}{\\sigma_0}\\right)$')\n",
    "plt.ylabel(r'$\\log_{10} \\left( \\frac{M}{M_{\\odot}} \\right)$')\n",
    "plt.legend()\n",
    "plt.show()"
   ]
  },
  {
   "cell_type": "markdown",
   "metadata": {
    "id": "YaKihptHPPwU"
   },
   "source": [
    "#### Score of the linear model depending on the train set size\n"
   ]
  },
  {
   "cell_type": "code",
   "execution_count": 23,
   "metadata": {
    "colab": {
     "base_uri": "https://localhost:8080/",
     "height": 288
    },
    "executionInfo": {
     "elapsed": 1120,
     "status": "ok",
     "timestamp": 1618151697949,
     "user": {
      "displayName": "Eduard Alexis Larranaga",
      "photoUrl": "https://lh3.googleusercontent.com/a-/AOh14GgCVABzEgj-rCdyxWa29RnA0kIYUCXAaVbnRYOEhQ=s64",
      "userId": "04402438389940282602"
     },
     "user_tz": 300
    },
    "id": "Vb2gCFKbPPwV",
    "outputId": "b8b43915-7d84-4ee6-ba00-041cb763492c"
   },
   "outputs": [
    {
     "data": {
      "image/png": "[encoded data removed]",
      "text/plain": [
       "<Figure size 432x288 with 1 Axes>"
      ]
     },
     "metadata": {
      "needs_background": "light",
      "tags": []
     },
     "output_type": "display_data"
    }
   ],
   "source": [
    "training_acc = []\n",
    "test_acc = []\n",
    "\n",
    "training_size = np.linspace(0.05,0.9,50)\n",
    "\n",
    "for s in training_size:\n",
    "    X_train, X_test, y_train, y_test = train_test_split(Xdf, ydf, random_state=55, train_size=s)\n",
    "    lr = LinearRegression().fit(X_train, y_train)\n",
    "    training_acc.append(lr.score(X_train,y_train))\n",
    "    test_acc.append(lr.score(X_test,y_test))\n",
    "    \n",
    "plt.plot(training_size, training_acc, label='train accuracy')\n",
    "plt.plot(training_size, test_acc, label='test accuracy')\n",
    "plt.xlabel(r'Train size')\n",
    "plt.ylabel(r'Accuracy')\n",
    "plt.legend()\n",
    "plt.show()"
   ]
  },
  {
   "cell_type": "markdown",
   "metadata": {
    "id": "AnMnGDfVPPwV"
   },
   "source": [
    "### The $M_{BH}$ - FWHM Relation"
   ]
  },
  {
   "cell_type": "code",
   "execution_count": 24,
   "metadata": {
    "executionInfo": {
     "elapsed": 436,
     "status": "ok",
     "timestamp": 1618151712020,
     "user": {
      "displayName": "Eduard Alexis Larranaga",
      "photoUrl": "https://lh3.googleusercontent.com/a-/AOh14GgCVABzEgj-rCdyxWa29RnA0kIYUCXAaVbnRYOEhQ=s64",
      "userId": "04402438389940282602"
     },
     "user_tz": 300
    },
    "id": "xu-NjSXUPPwV"
   },
   "outputs": [],
   "source": [
    "Xdf = df[['logFWHM']]\n",
    "ydf = df[['logM']]"
   ]
  },
  {
   "cell_type": "markdown",
   "metadata": {
    "id": "8JYi9Xj8PPwV"
   },
   "source": [
    "Lets check that all 88 samples have both values (if there is a missing value, we have to handle that sample in some way) "
   ]
  },
  {
   "cell_type": "code",
   "execution_count": 25,
   "metadata": {
    "colab": {
     "base_uri": "https://localhost:8080/",
     "height": 297
    },
    "executionInfo": {
     "elapsed": 456,
     "status": "ok",
     "timestamp": 1618151713957,
     "user": {
      "displayName": "Eduard Alexis Larranaga",
      "photoUrl": "https://lh3.googleusercontent.com/a-/AOh14GgCVABzEgj-rCdyxWa29RnA0kIYUCXAaVbnRYOEhQ=s64",
      "userId": "04402438389940282602"
     },
     "user_tz": 300
    },
    "id": "729AhLRAPPwV",
    "outputId": "e2c18ad9-39c5-4147-8ee0-eddb1335d34e"
   },
   "outputs": [
    {
     "data": {
      "text/html": [
       "<div>\n",
       "<style scoped>\n",
       "    .dataframe tbody tr th:only-of-type {\n",
       "        vertical-align: middle;\n",
       "    }\n",
       "\n",
       "    .dataframe tbody tr th {\n",
       "        vertical-align: top;\n",
       "    }\n",
       "\n",
       "    .dataframe thead th {\n",
       "        text-align: right;\n",
       "    }\n",
       "</style>\n",
       "<table border=\"1\" class=\"dataframe\">\n",
       "  <thead>\n",
       "    <tr style=\"text-align: right;\">\n",
       "      <th></th>\n",
       "      <th>logFWHM</th>\n",
       "    </tr>\n",
       "  </thead>\n",
       "  <tbody>\n",
       "    <tr>\n",
       "      <th>count</th>\n",
       "      <td>71.000000</td>\n",
       "    </tr>\n",
       "    <tr>\n",
       "      <th>mean</th>\n",
       "      <td>3.440999</td>\n",
       "    </tr>\n",
       "    <tr>\n",
       "      <th>std</th>\n",
       "      <td>0.246118</td>\n",
       "    </tr>\n",
       "    <tr>\n",
       "      <th>min</th>\n",
       "      <td>2.908485</td>\n",
       "    </tr>\n",
       "    <tr>\n",
       "      <th>25%</th>\n",
       "      <td>3.279893</td>\n",
       "    </tr>\n",
       "    <tr>\n",
       "      <th>50%</th>\n",
       "      <td>3.472756</td>\n",
       "    </tr>\n",
       "    <tr>\n",
       "      <th>75%</th>\n",
       "      <td>3.587710</td>\n",
       "    </tr>\n",
       "    <tr>\n",
       "      <th>max</th>\n",
       "      <td>3.915927</td>\n",
       "    </tr>\n",
       "  </tbody>\n",
       "</table>\n",
       "</div>"
      ],
      "text/plain": [
       "         logFWHM\n",
       "count  71.000000\n",
       "mean    3.440999\n",
       "std     0.246118\n",
       "min     2.908485\n",
       "25%     3.279893\n",
       "50%     3.472756\n",
       "75%     3.587710\n",
       "max     3.915927"
      ]
     },
     "execution_count": 25,
     "metadata": {
      "tags": []
     },
     "output_type": "execute_result"
    }
   ],
   "source": [
    "Xdf.describe() "
   ]
  },
  {
   "cell_type": "markdown",
   "metadata": {
    "id": "G-7hAAsoPPwW"
   },
   "source": [
    "We only have 71 samples for the FWHM feature. Therefore we must handle the missing values."
   ]
  },
  {
   "cell_type": "code",
   "execution_count": 26,
   "metadata": {
    "colab": {
     "base_uri": "https://localhost:8080/",
     "height": 297
    },
    "executionInfo": {
     "elapsed": 410,
     "status": "ok",
     "timestamp": 1618151716126,
     "user": {
      "displayName": "Eduard Alexis Larranaga",
      "photoUrl": "https://lh3.googleusercontent.com/a-/AOh14GgCVABzEgj-rCdyxWa29RnA0kIYUCXAaVbnRYOEhQ=s64",
      "userId": "04402438389940282602"
     },
     "user_tz": 300
    },
    "id": "F5oQ-86yPPwW",
    "outputId": "9fc79a26-e090-4a27-904e-ac15ca26aa20"
   },
   "outputs": [
    {
     "data": {
      "text/html": [
       "<div>\n",
       "<style scoped>\n",
       "    .dataframe tbody tr th:only-of-type {\n",
       "        vertical-align: middle;\n",
       "    }\n",
       "\n",
       "    .dataframe tbody tr th {\n",
       "        vertical-align: top;\n",
       "    }\n",
       "\n",
       "    .dataframe thead th {\n",
       "        text-align: right;\n",
       "    }\n",
       "</style>\n",
       "<table border=\"1\" class=\"dataframe\">\n",
       "  <thead>\n",
       "    <tr style=\"text-align: right;\">\n",
       "      <th></th>\n",
       "      <th>logM</th>\n",
       "      <th>logFWHM</th>\n",
       "    </tr>\n",
       "  </thead>\n",
       "  <tbody>\n",
       "    <tr>\n",
       "      <th>count</th>\n",
       "      <td>71.000000</td>\n",
       "      <td>71.000000</td>\n",
       "    </tr>\n",
       "    <tr>\n",
       "      <th>mean</th>\n",
       "      <td>6.819718</td>\n",
       "      <td>3.440999</td>\n",
       "    </tr>\n",
       "    <tr>\n",
       "      <th>std</th>\n",
       "      <td>0.660653</td>\n",
       "      <td>0.246118</td>\n",
       "    </tr>\n",
       "    <tr>\n",
       "      <th>min</th>\n",
       "      <td>5.100000</td>\n",
       "      <td>2.908485</td>\n",
       "    </tr>\n",
       "    <tr>\n",
       "      <th>25%</th>\n",
       "      <td>6.300000</td>\n",
       "      <td>3.279893</td>\n",
       "    </tr>\n",
       "    <tr>\n",
       "      <th>50%</th>\n",
       "      <td>6.900000</td>\n",
       "      <td>3.472756</td>\n",
       "    </tr>\n",
       "    <tr>\n",
       "      <th>75%</th>\n",
       "      <td>7.300000</td>\n",
       "      <td>3.587710</td>\n",
       "    </tr>\n",
       "    <tr>\n",
       "      <th>max</th>\n",
       "      <td>8.200000</td>\n",
       "      <td>3.915927</td>\n",
       "    </tr>\n",
       "  </tbody>\n",
       "</table>\n",
       "</div>"
      ],
      "text/plain": [
       "            logM    logFWHM\n",
       "count  71.000000  71.000000\n",
       "mean    6.819718   3.440999\n",
       "std     0.660653   0.246118\n",
       "min     5.100000   2.908485\n",
       "25%     6.300000   3.279893\n",
       "50%     6.900000   3.472756\n",
       "75%     7.300000   3.587710\n",
       "max     8.200000   3.915927"
      ]
     },
     "execution_count": 26,
     "metadata": {},
     "output_type": "execute_result"
    }
   ],
   "source": [
    "newdf = df[['logM','logFWHM']]\n",
    "newdf = newdf.apply (pd.to_numeric, errors='coerce')\n",
    "newdf = newdf.dropna()\n",
    "newdf.describe()"
   ]
  },
  {
   "cell_type": "markdown",
   "metadata": {
    "id": "0fBZhoOGPPwW"
   },
   "source": [
    "and redefine the variables for the fit"
   ]
  },
  {
   "cell_type": "code",
   "execution_count": 27,
   "metadata": {
    "executionInfo": {
     "elapsed": 509,
     "status": "ok",
     "timestamp": 1618151733448,
     "user": {
      "displayName": "Eduard Alexis Larranaga",
      "photoUrl": "https://lh3.googleusercontent.com/a-/AOh14GgCVABzEgj-rCdyxWa29RnA0kIYUCXAaVbnRYOEhQ=s64",
      "userId": "04402438389940282602"
     },
     "user_tz": 300
    },
    "id": "e0t4y_xiPPwX"
   },
   "outputs": [],
   "source": [
    "Xdf = newdf[['logFWHM']]\n",
    "ydf = newdf[['logM']]"
   ]
  },
  {
   "cell_type": "markdown",
   "metadata": {
    "id": "TpoFIy3MPPwX"
   },
   "source": [
    "Since all samples are OK, we will separate the data frame into two sets, a train set and a test set. We will use the function `train_test_split` function from the `sklearn.model_selection` package. We will use a size of 10% for the test set. More information on this function at\n",
    "\n",
    "https://scikit-learn.org/stable/modules/generated/sklearn.model_selection.train_test_split.html"
   ]
  },
  {
   "cell_type": "code",
   "execution_count": 28,
   "metadata": {
    "executionInfo": {
     "elapsed": 435,
     "status": "ok",
     "timestamp": 1618151735189,
     "user": {
      "displayName": "Eduard Alexis Larranaga",
      "photoUrl": "https://lh3.googleusercontent.com/a-/AOh14GgCVABzEgj-rCdyxWa29RnA0kIYUCXAaVbnRYOEhQ=s64",
      "userId": "04402438389940282602"
     },
     "user_tz": 300
    },
    "id": "tPT6ZlU3PPwX"
   },
   "outputs": [],
   "source": [
    "from sklearn.model_selection import train_test_split\n",
    "\n",
    "X_train, X_test, y_train, y_test = train_test_split(Xdf, ydf, random_state=55, test_size=0.1)"
   ]
  },
  {
   "cell_type": "markdown",
   "metadata": {
    "id": "wEPM-0F5PPwX"
   },
   "source": [
    "Let see what we obtain:"
   ]
  },
  {
   "cell_type": "code",
   "execution_count": 29,
   "metadata": {
    "colab": {
     "base_uri": "https://localhost:8080/"
    },
    "executionInfo": {
     "elapsed": 397,
     "status": "ok",
     "timestamp": 1618151737368,
     "user": {
      "displayName": "Eduard Alexis Larranaga",
      "photoUrl": "https://lh3.googleusercontent.com/a-/AOh14GgCVABzEgj-rCdyxWa29RnA0kIYUCXAaVbnRYOEhQ=s64",
      "userId": "04402438389940282602"
     },
     "user_tz": 300
    },
    "id": "CZPaLqw-PPwX",
    "outputId": "31051247-da92-43d8-c2f1-ff4f2630f967"
   },
   "outputs": [
    {
     "data": {
      "text/plain": [
       "((63, 1), (63, 1))"
      ]
     },
     "execution_count": 29,
     "metadata": {},
     "output_type": "execute_result"
    }
   ],
   "source": [
    "X_train.shape , y_train.shape"
   ]
  },
  {
   "cell_type": "code",
   "execution_count": 30,
   "metadata": {
    "colab": {
     "base_uri": "https://localhost:8080/"
    },
    "executionInfo": {
     "elapsed": 380,
     "status": "ok",
     "timestamp": 1618151738715,
     "user": {
      "displayName": "Eduard Alexis Larranaga",
      "photoUrl": "https://lh3.googleusercontent.com/a-/AOh14GgCVABzEgj-rCdyxWa29RnA0kIYUCXAaVbnRYOEhQ=s64",
      "userId": "04402438389940282602"
     },
     "user_tz": 300
    },
    "id": "eALeN1zDPPwY",
    "outputId": "c045ab2a-f9e0-4a2d-e3ab-d4e79c751cfb"
   },
   "outputs": [
    {
     "data": {
      "text/plain": [
       "((8, 1), (8, 1))"
      ]
     },
     "execution_count": 30,
     "metadata": {},
     "output_type": "execute_result"
    }
   ],
   "source": [
    "X_test.shape , y_test.shape"
   ]
  },
  {
   "cell_type": "markdown",
   "metadata": {
    "id": "bD0GywIePPwY"
   },
   "source": [
    "Now, we train the linear model\n",
    "\n",
    "$y = a_1 + a_2 x$ ,\n",
    "\n",
    "with the method `LinearRegression().fit()` and the training data"
   ]
  },
  {
   "cell_type": "code",
   "execution_count": 31,
   "metadata": {
    "executionInfo": {
     "elapsed": 471,
     "status": "ok",
     "timestamp": 1618151743988,
     "user": {
      "displayName": "Eduard Alexis Larranaga",
      "photoUrl": "https://lh3.googleusercontent.com/a-/AOh14GgCVABzEgj-rCdyxWa29RnA0kIYUCXAaVbnRYOEhQ=s64",
      "userId": "04402438389940282602"
     },
     "user_tz": 300
    },
    "id": "KHUfBiZSPPwY"
   },
   "outputs": [],
   "source": [
    "lr = LinearRegression().fit(X_train, y_train)"
   ]
  },
  {
   "cell_type": "markdown",
   "metadata": {
    "id": "Lud6C5ZHPPwY"
   },
   "source": [
    "The parameters obtained from the lienar fit are recovered with the methods `.intercept_` ($a_1$) and `.coef_` ($a_2$)."
   ]
  },
  {
   "cell_type": "code",
   "execution_count": 32,
   "metadata": {
    "colab": {
     "base_uri": "https://localhost:8080/"
    },
    "executionInfo": {
     "elapsed": 443,
     "status": "ok",
     "timestamp": 1618151746018,
     "user": {
      "displayName": "Eduard Alexis Larranaga",
      "photoUrl": "https://lh3.googleusercontent.com/a-/AOh14GgCVABzEgj-rCdyxWa29RnA0kIYUCXAaVbnRYOEhQ=s64",
      "userId": "04402438389940282602"
     },
     "user_tz": 300
    },
    "id": "UU7JWwSSPPwY",
    "outputId": "341387c2-ff43-4c1c-a1ff-bdb5757f4a6a"
   },
   "outputs": [
    {
     "data": {
      "text/plain": [
       "(array([-1.38219658]), array([[2.38521383]]))"
      ]
     },
     "execution_count": 32,
     "metadata": {},
     "output_type": "execute_result"
    }
   ],
   "source": [
    "lr.intercept_ , lr.coef_ "
   ]
  },
  {
   "cell_type": "markdown",
   "metadata": {
    "id": "pq9FKF5NPPwY"
   },
   "source": [
    "Using the method `.score()`, which returns the coefficient of determination $R^2$ for the model, we obtain for the training and the testing sets the results"
   ]
  },
  {
   "cell_type": "code",
   "execution_count": 33,
   "metadata": {
    "colab": {
     "base_uri": "https://localhost:8080/"
    },
    "executionInfo": {
     "elapsed": 445,
     "status": "ok",
     "timestamp": 1618151748196,
     "user": {
      "displayName": "Eduard Alexis Larranaga",
      "photoUrl": "https://lh3.googleusercontent.com/a-/AOh14GgCVABzEgj-rCdyxWa29RnA0kIYUCXAaVbnRYOEhQ=s64",
      "userId": "04402438389940282602"
     },
     "user_tz": 300
    },
    "id": "QVxFtQOBPPwY",
    "outputId": "2af1b814-65af-46e9-d72a-35e12df99f04"
   },
   "outputs": [
    {
     "data": {
      "text/plain": [
       "0.8491120441543842"
      ]
     },
     "execution_count": 33,
     "metadata": {},
     "output_type": "execute_result"
    }
   ],
   "source": [
    "lr.score(X_train, y_train)"
   ]
  },
  {
   "cell_type": "code",
   "execution_count": 34,
   "metadata": {
    "colab": {
     "base_uri": "https://localhost:8080/"
    },
    "executionInfo": {
     "elapsed": 442,
     "status": "ok",
     "timestamp": 1618151749361,
     "user": {
      "displayName": "Eduard Alexis Larranaga",
      "photoUrl": "https://lh3.googleusercontent.com/a-/AOh14GgCVABzEgj-rCdyxWa29RnA0kIYUCXAaVbnRYOEhQ=s64",
      "userId": "04402438389940282602"
     },
     "user_tz": 300
    },
    "id": "XMjiDE45PPwY",
    "outputId": "3ce41c38-d830-4118-843e-be3217f9ed92"
   },
   "outputs": [
    {
     "data": {
      "text/plain": [
       "0.8127009159505001"
      ]
     },
     "execution_count": 34,
     "metadata": {},
     "output_type": "execute_result"
    }
   ],
   "source": [
    "lr.score(X_test, y_test)"
   ]
  },
  {
   "cell_type": "markdown",
   "metadata": {
    "id": "JD_aqz05PPwZ"
   },
   "source": [
    "We can also predict the value for the $\\log M$ given some data point(s) $x_{point}$ using the method `.predict()` of the linear model. For example,"
   ]
  },
  {
   "cell_type": "code",
   "execution_count": 35,
   "metadata": {
    "colab": {
     "base_uri": "https://localhost:8080/"
    },
    "executionInfo": {
     "elapsed": 423,
     "status": "ok",
     "timestamp": 1618151751569,
     "user": {
      "displayName": "Eduard Alexis Larranaga",
      "photoUrl": "https://lh3.googleusercontent.com/a-/AOh14GgCVABzEgj-rCdyxWa29RnA0kIYUCXAaVbnRYOEhQ=s64",
      "userId": "04402438389940282602"
     },
     "user_tz": 300
    },
    "id": "zmb3xfxQPPwZ",
    "outputId": "bcbca718-54df-4461-eef3-aaf5ec010e5a"
   },
   "outputs": [
    {
     "data": {
      "text/plain": [
       "array([[5.7734449]])"
      ]
     },
     "execution_count": 35,
     "metadata": {},
     "output_type": "execute_result"
    }
   ],
   "source": [
    "X_point = np.array([[3.0]]) \n",
    "y_point =lr.predict(X_point)\n",
    "y_point"
   ]
  },
  {
   "cell_type": "code",
   "execution_count": 36,
   "metadata": {
    "colab": {
     "base_uri": "https://localhost:8080/"
    },
    "executionInfo": {
     "elapsed": 515,
     "status": "ok",
     "timestamp": 1618151805976,
     "user": {
      "displayName": "Eduard Alexis Larranaga",
      "photoUrl": "https://lh3.googleusercontent.com/a-/AOh14GgCVABzEgj-rCdyxWa29RnA0kIYUCXAaVbnRYOEhQ=s64",
      "userId": "04402438389940282602"
     },
     "user_tz": 300
    },
    "id": "fjWmCe5aPPwZ",
    "outputId": "f0b9635a-fd89-4ca9-ebcb-ec60cdf68eb1"
   },
   "outputs": [
    {
     "data": {
      "text/plain": [
       "array([[6.36974836],\n",
       "       [7.56235527]])"
      ]
     },
     "execution_count": 36,
     "metadata": {},
     "output_type": "execute_result"
    }
   ],
   "source": [
    "X_point = np.array([[3.25],[3.75]]) \n",
    "y_point =lr.predict(X_point)\n",
    "y_point"
   ]
  },
  {
   "cell_type": "markdown",
   "metadata": {
    "id": "GLS-W42aPPwZ"
   },
   "source": [
    "Finally, we plot the linear fit to see the behavior together with the observational data."
   ]
  },
  {
   "cell_type": "code",
   "execution_count": 39,
   "metadata": {
    "colab": {
     "base_uri": "https://localhost:8080/",
     "height": 348
    },
    "executionInfo": {
     "elapsed": 865,
     "status": "ok",
     "timestamp": 1618151808001,
     "user": {
      "displayName": "Eduard Alexis Larranaga",
      "photoUrl": "https://lh3.googleusercontent.com/a-/AOh14GgCVABzEgj-rCdyxWa29RnA0kIYUCXAaVbnRYOEhQ=s64",
      "userId": "04402438389940282602"
     },
     "user_tz": 300
    },
    "id": "jG_2kE1MPPwZ",
    "outputId": "93c6e283-8ad2-4bf9-a06b-edb829201c1e"
   },
   "outputs": [
    {
     "data": {
      "image/png": "[encoded data removed]",
      "text/plain": [
       "<Figure size 360x360 with 1 Axes>"
      ]
     },
     "metadata": {
      "needs_background": "light"
     },
     "output_type": "display_data"
    }
   ],
   "source": [
    "logFWHM_range= np.linspace(2.5, 4, 30)\n",
    "logM = lr.intercept_[0] + lr.coef_[0]*logFWHM_range\n",
    "\n",
    "\n",
    "plt.figure(figsize=(5,5))\n",
    "plt.scatter(X_train, y_train,label='training data', color='blue')\n",
    "plt.scatter(X_test, y_test,label='test data', color='red')\n",
    "plt.scatter(X_point, y_point,label='predicted value', color='orange')\n",
    "plt.plot(logFWHM_range, logM,'--k', label='linear model')\n",
    "\n",
    "plt.xlabel(r'$\\log_{10} \\left(FWHM\\right)$')\n",
    "plt.ylabel(r'$\\log_{10} \\left( \\frac{M}{M_{\\odot}} \\right)$')\n",
    "plt.legend()\n",
    "plt.show()"
   ]
  },
  {
   "cell_type": "markdown",
   "metadata": {
    "id": "FTjVWIINPPwZ"
   },
   "source": [
    "#### Score of the linear model depending on the train set size\n"
   ]
  },
  {
   "cell_type": "code",
   "execution_count": 44,
   "metadata": {
    "colab": {
     "base_uri": "https://localhost:8080/",
     "height": 285
    },
    "executionInfo": {
     "elapsed": 1283,
     "status": "ok",
     "timestamp": 1618151814686,
     "user": {
      "displayName": "Eduard Alexis Larranaga",
      "photoUrl": "https://lh3.googleusercontent.com/a-/AOh14GgCVABzEgj-rCdyxWa29RnA0kIYUCXAaVbnRYOEhQ=s64",
      "userId": "04402438389940282602"
     },
     "user_tz": 300
    },
    "id": "KleUBdgxPPwa",
    "outputId": "09cc60d6-6e02-4eaf-8c44-f51d647ea80b"
   },
   "outputs": [
    {
     "data": {
      "image/png": "[encoded data removed]",
      "text/plain": [
       "<Figure size 432x288 with 1 Axes>"
      ]
     },
     "metadata": {
      "needs_background": "light",
      "tags": []
     },
     "output_type": "display_data"
    }
   ],
   "source": [
    "training_acc = []\n",
    "test_acc = []\n",
    "\n",
    "training_size = np.linspace(0.05,0.9,50)\n",
    "\n",
    "for s in training_size:\n",
    "    X_train, X_test, y_train, y_test = train_test_split(Xdf, ydf, random_state=55, train_size=s)\n",
    "    lr = LinearRegression().fit(X_train, y_train)\n",
    "    training_acc.append(lr.score(X_train,y_train))\n",
    "    test_acc.append(lr.score(X_test,y_test))\n",
    "    \n",
    "plt.plot(training_size, training_acc, label='train accuracy')\n",
    "plt.plot(training_size, test_acc, label='test accuracy')\n",
    "plt.xlabel(r'Train size')\n",
    "plt.ylabel(r'Accuracy')\n",
    "plt.legend()\n",
    "plt.show()"
   ]
  },
  {
   "cell_type": "code",
   "execution_count": null,
   "metadata": {
    "id": "J7hApqD4PPwa"
   },
   "outputs": [],
   "source": []
  }
 ],
 "metadata": {
  "colab": {
   "collapsed_sections": [],
   "name": "ScikitRegression02.ipynb",
   "provenance": []
  },
  "kernelspec": {
   "display_name": "Python 3 (ipykernel)",
   "language": "python",
   "name": "python3"
  },
  "language_info": {
   "codemirror_mode": {
    "name": "ipython",
    "version": 3
   },
   "file_extension": ".py",
   "mimetype": "text/x-python",
   "name": "python",
   "nbconvert_exporter": "python",
   "pygments_lexer": "ipython3",
   "version": "3.9.7"
  }
 },
 "nbformat": 4,
 "nbformat_minor": 1
}
