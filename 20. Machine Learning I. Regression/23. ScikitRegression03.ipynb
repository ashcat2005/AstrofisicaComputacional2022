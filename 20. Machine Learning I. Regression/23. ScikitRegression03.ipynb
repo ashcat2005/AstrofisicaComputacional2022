{
 "cells": [
  {
   "cell_type": "markdown",
   "metadata": {
    "id": "h2KlL3HYpuh2"
   },
   "source": [
    "![Astrofisica Computacional](../logo.png)"
   ]
  },
  {
   "cell_type": "markdown",
   "metadata": {},
   "source": [
    "---\n",
    "## 22. Multilinear Fit with SciKit-Learn. Example 3\n",
    "\n",
    "\n",
    "Eduard Larrañaga (ealarranaga@unal.edu.co)\n",
    "\n",
    "---"
   ]
  },
  {
   "cell_type": "markdown",
   "metadata": {
    "id": "0YYesw4Spuh-"
   },
   "source": [
    "### About this notebook\n",
    "\n",
    "In this worksheet, we will use the `scikit-learn` package split a sample database of 88 supermassive black holes into train and test sets in order to implement a multidimensional simple linear regression, a Ridge regression and a Lasso regression.\n",
    "\n",
    "---"
   ]
  },
  {
   "cell_type": "code",
   "execution_count": 1,
   "metadata": {
    "executionInfo": {
     "elapsed": 2595,
     "status": "ok",
     "timestamp": 1618151874465,
     "user": {
      "displayName": "Eduard Alexis Larranaga",
      "photoUrl": "https://lh3.googleusercontent.com/a-/AOh14GgCVABzEgj-rCdyxWa29RnA0kIYUCXAaVbnRYOEhQ=s64",
      "userId": "04402438389940282602"
     },
     "user_tz": 300
    },
    "id": "XOx6XtU-puh_"
   },
   "outputs": [],
   "source": [
    "import numpy as np\n",
    "from matplotlib import pyplot as plt\n",
    "#import seaborn as sns\n",
    "#sns.set()\n",
    "import pandas as pd\n",
    "from astropy.io import ascii\n",
    "\n",
    "from sklearn.linear_model import LinearRegression\n",
    "from sklearn.model_selection import train_test_split\n",
    "\n",
    "# No warnings\n",
    "import warnings\n",
    "warnings.filterwarnings('ignore')"
   ]
  },
  {
   "cell_type": "markdown",
   "metadata": {
    "id": "oSlsSCmmpuiA"
   },
   "source": [
    "### Green and Ho data\n",
    "\n",
    "Consider the dataset reported by Greene and Ho (2006), containing the features of 88 galaxies. \n",
    "\n",
    "Greene, J. E. and Ho, L. C. *The MBH − σ∗ Relation in Local Active Galaxies*. ApJ 641 L21 (2006)\n",
    "https://ui.adsabs.harvard.edu/abs/2006ApJ...641L..21G/abstract\n",
    "\n",
    "The dataset is available online in various formats at\n",
    "\n",
    "http://vizier.cfa.harvard.edu/viz-bin/VizieR?-source=J/ApJ/641/L21.\n",
    "\n",
    "\n",
    "We read the data using the `astropy.io.ascii` function."
   ]
  },
  {
   "cell_type": "code",
   "execution_count": 2,
   "metadata": {
    "colab": {
     "base_uri": "https://localhost:8080/",
     "height": 519
    },
    "executionInfo": {
     "elapsed": 2396,
     "status": "ok",
     "timestamp": 1618151911531,
     "user": {
      "displayName": "Eduard Alexis Larranaga",
      "photoUrl": "https://lh3.googleusercontent.com/a-/AOh14GgCVABzEgj-rCdyxWa29RnA0kIYUCXAaVbnRYOEhQ=s64",
      "userId": "04402438389940282602"
     },
     "user_tz": 300
    },
    "id": "BDA_D8lDpuiA",
    "outputId": "3bd5cd20-da28-48ea-a053-99aaed084976"
   },
   "outputs": [
    {
     "data": {
      "text/html": [
       "<div><i>Table length=88</i>\n",
       "<table id=\"table5185269136\" class=\"table-striped table-bordered table-condensed\">\n",
       "<thead><tr><th>Name</th><th>z</th><th>sigma*</th><th>e_sigma*</th><th>n_sigma*</th><th>FWHM</th><th>e_FWHM</th><th>logL</th><th>e_logL</th><th>logM</th><th>E_logM</th><th>e_logM</th></tr></thead>\n",
       "<thead><tr><th></th><th></th><th>km / s</th><th>km / s</th><th></th><th>km / s</th><th>km / s</th><th>[10-7W]</th><th>[10-7W]</th><th>dex(Msun)</th><th>dex(Msun)</th><th>dex(Msun)</th></tr></thead>\n",
       "<thead><tr><th>str24</th><th>float64</th><th>float64</th><th>float64</th><th>str1</th><th>int64</th><th>int64</th><th>float64</th><th>float64</th><th>float64</th><th>float64</th><th>float64</th></tr></thead>\n",
       "<tr><td>SDSS J000805.62+145023.4</td><td>0.0454</td><td>140.0</td><td>27.0</td><td>--</td><td>7610</td><td>380</td><td>41.13</td><td>0.04</td><td>7.7</td><td>--</td><td>0.1</td></tr>\n",
       "<tr><td>SDSS J004236.86-104921.8</td><td>0.0419</td><td>78.4</td><td>10.0</td><td>--</td><td>1960</td><td>97</td><td>41.58</td><td>0.14</td><td>6.7</td><td>--</td><td>0.1</td></tr>\n",
       "<tr><td>SDSS J011703.58+000027.3</td><td>0.0456</td><td>98.8</td><td>16.0</td><td>--</td><td>2270</td><td>110</td><td>41.45</td><td>0.08</td><td>6.8</td><td>--</td><td>0.1</td></tr>\n",
       "<tr><td>SDSS J020459.25-080816.0</td><td>0.0772</td><td>121.0</td><td>9.4</td><td>a</td><td>3720</td><td>180</td><td>41.13</td><td>0.05</td><td>7.0</td><td>--</td><td>0.1</td></tr>\n",
       "<tr><td>SDSS J020615.99-001729.1</td><td>0.0426</td><td>216.0</td><td>30.0</td><td>--</td><td>3860</td><td>190</td><td>41.91</td><td>0.07</td><td>7.5</td><td>--</td><td>0.1</td></tr>\n",
       "<tr><td>SDSS J021011.49-090335.5</td><td>0.0414</td><td>122.0</td><td>12.0</td><td>a</td><td>2450</td><td>120</td><td>41.24</td><td>0.07</td><td>6.7</td><td>--</td><td>0.1</td></tr>\n",
       "<tr><td>...</td><td>...</td><td>...</td><td>...</td><td>...</td><td>...</td><td>...</td><td>...</td><td>...</td><td>...</td><td>...</td><td>...</td></tr>\n",
       "<tr><td>NGC 4051</td><td>0.00234</td><td>88.9</td><td>2.9</td><td>--</td><td>--</td><td>--</td><td>--</td><td>--</td><td>5.99</td><td>0.17</td><td>0.2</td></tr>\n",
       "<tr><td>NGC 4151</td><td>0.00332</td><td>96.8</td><td>2.9</td><td>--</td><td>--</td><td>--</td><td>--</td><td>--</td><td>6.91</td><td>0.17</td><td>0.29</td></tr>\n",
       "<tr><td>NGC 5548</td><td>0.0172</td><td>198.0</td><td>11.0</td><td>--</td><td>--</td><td>--</td><td>--</td><td>--</td><td>7.81</td><td>0.02</td><td>0.02</td></tr>\n",
       "<tr><td>NGC 7469</td><td>0.0163</td><td>133.0</td><td>4.8</td><td>--</td><td>--</td><td>--</td><td>--</td><td>--</td><td>6.49</td><td>0.16</td><td>0.27</td></tr>\n",
       "<tr><td>POX 52</td><td>0.0218</td><td>36.0</td><td>5.0</td><td>--</td><td>--</td><td>--</td><td>--</td><td>--</td><td>5.2</td><td>--</td><td>0.3</td></tr>\n",
       "<tr><td>NGC 4395</td><td>0.000947</td><td>30.0</td><td>5.0</td><td>--</td><td>--</td><td>--</td><td>--</td><td>--</td><td>4.9</td><td>--</td><td>0.4</td></tr>\n",
       "</table></div>"
      ],
      "text/plain": [
       "<Table length=88>\n",
       "          Name              z      sigma* ...    logM     E_logM    e_logM \n",
       "                                   km / s ... dex(Msun) dex(Msun) dex(Msun)\n",
       "         str24           float64  float64 ...  float64   float64   float64 \n",
       "------------------------ -------- ------- ... --------- --------- ---------\n",
       "SDSS J000805.62+145023.4   0.0454   140.0 ...       7.7        --       0.1\n",
       "SDSS J004236.86-104921.8   0.0419    78.4 ...       6.7        --       0.1\n",
       "SDSS J011703.58+000027.3   0.0456    98.8 ...       6.8        --       0.1\n",
       "SDSS J020459.25-080816.0   0.0772   121.0 ...       7.0        --       0.1\n",
       "SDSS J020615.99-001729.1   0.0426   216.0 ...       7.5        --       0.1\n",
       "SDSS J021011.49-090335.5   0.0414   122.0 ...       6.7        --       0.1\n",
       "                     ...      ...     ... ...       ...       ...       ...\n",
       "                NGC 4051  0.00234    88.9 ...      5.99      0.17       0.2\n",
       "                NGC 4151  0.00332    96.8 ...      6.91      0.17      0.29\n",
       "                NGC 5548   0.0172   198.0 ...      7.81      0.02      0.02\n",
       "                NGC 7469   0.0163   133.0 ...      6.49      0.16      0.27\n",
       "                  POX 52   0.0218    36.0 ...       5.2        --       0.3\n",
       "                NGC 4395 0.000947    30.0 ...       4.9        --       0.4"
      ]
     },
     "execution_count": 2,
     "metadata": {},
     "output_type": "execute_result"
    }
   ],
   "source": [
    "data = ascii.read('SMBHData/table1.dat', readme='SMBHData/ReadMe')\n",
    "data"
   ]
  },
  {
   "cell_type": "markdown",
   "metadata": {
    "id": "ZCLZmTjLpuiB"
   },
   "source": [
    "Now, we convert the astropy Table to a pandas dataframe using the `.to_pandas()` method. Details at\n",
    "\n",
    "https://docs.astropy.org/en/stable/api/astropy.table.Table.html#astropy.table.Table.to_pandas"
   ]
  },
  {
   "cell_type": "code",
   "execution_count": 3,
   "metadata": {
    "colab": {
     "base_uri": "https://localhost:8080/",
     "height": 297
    },
    "executionInfo": {
     "elapsed": 617,
     "status": "ok",
     "timestamp": 1618151915102,
     "user": {
      "displayName": "Eduard Alexis Larranaga",
      "photoUrl": "https://lh3.googleusercontent.com/a-/AOh14GgCVABzEgj-rCdyxWa29RnA0kIYUCXAaVbnRYOEhQ=s64",
      "userId": "04402438389940282602"
     },
     "user_tz": 300
    },
    "id": "aDbnxLhDpuiC",
    "outputId": "96bf5397-bd54-4b76-b3e9-8e018d0bd22b"
   },
   "outputs": [
    {
     "data": {
      "text/html": [
       "<div>\n",
       "<style scoped>\n",
       "    .dataframe tbody tr th:only-of-type {\n",
       "        vertical-align: middle;\n",
       "    }\n",
       "\n",
       "    .dataframe tbody tr th {\n",
       "        vertical-align: top;\n",
       "    }\n",
       "\n",
       "    .dataframe thead th {\n",
       "        text-align: right;\n",
       "    }\n",
       "</style>\n",
       "<table border=\"1\" class=\"dataframe\">\n",
       "  <thead>\n",
       "    <tr style=\"text-align: right;\">\n",
       "      <th></th>\n",
       "      <th>z</th>\n",
       "      <th>sigma*</th>\n",
       "      <th>e_sigma*</th>\n",
       "      <th>FWHM</th>\n",
       "      <th>e_FWHM</th>\n",
       "      <th>logL</th>\n",
       "      <th>e_logL</th>\n",
       "      <th>logM</th>\n",
       "      <th>E_logM</th>\n",
       "      <th>e_logM</th>\n",
       "    </tr>\n",
       "  </thead>\n",
       "  <tbody>\n",
       "    <tr>\n",
       "      <th>count</th>\n",
       "      <td>88.000000</td>\n",
       "      <td>88.000000</td>\n",
       "      <td>88.000000</td>\n",
       "      <td>71.000000</td>\n",
       "      <td>71.000000</td>\n",
       "      <td>71.000000</td>\n",
       "      <td>71.000000</td>\n",
       "      <td>88.00000</td>\n",
       "      <td>15.000000</td>\n",
       "      <td>88.000000</td>\n",
       "    </tr>\n",
       "    <tr>\n",
       "      <th>mean</th>\n",
       "      <td>0.048665</td>\n",
       "      <td>117.142045</td>\n",
       "      <td>11.805682</td>\n",
       "      <td>3206.056338</td>\n",
       "      <td>210.760563</td>\n",
       "      <td>41.504225</td>\n",
       "      <td>0.078028</td>\n",
       "      <td>6.86625</td>\n",
       "      <td>0.140667</td>\n",
       "      <td>0.189886</td>\n",
       "    </tr>\n",
       "    <tr>\n",
       "      <th>std</th>\n",
       "      <td>0.032562</td>\n",
       "      <td>48.285108</td>\n",
       "      <td>5.308383</td>\n",
       "      <td>1759.679743</td>\n",
       "      <td>191.219953</td>\n",
       "      <td>0.663268</td>\n",
       "      <td>0.041700</td>\n",
       "      <td>0.72825</td>\n",
       "      <td>0.074303</td>\n",
       "      <td>0.172470</td>\n",
       "    </tr>\n",
       "    <tr>\n",
       "      <th>min</th>\n",
       "      <td>0.000947</td>\n",
       "      <td>30.000000</td>\n",
       "      <td>2.900000</td>\n",
       "      <td>810.000000</td>\n",
       "      <td>41.000000</td>\n",
       "      <td>40.100000</td>\n",
       "      <td>0.030000</td>\n",
       "      <td>4.90000</td>\n",
       "      <td>0.020000</td>\n",
       "      <td>0.020000</td>\n",
       "    </tr>\n",
       "    <tr>\n",
       "      <th>25%</th>\n",
       "      <td>0.027750</td>\n",
       "      <td>87.025000</td>\n",
       "      <td>7.750000</td>\n",
       "      <td>1905.000000</td>\n",
       "      <td>110.000000</td>\n",
       "      <td>41.155000</td>\n",
       "      <td>0.050000</td>\n",
       "      <td>6.30000</td>\n",
       "      <td>0.100000</td>\n",
       "      <td>0.100000</td>\n",
       "    </tr>\n",
       "    <tr>\n",
       "      <th>50%</th>\n",
       "      <td>0.042250</td>\n",
       "      <td>113.500000</td>\n",
       "      <td>12.000000</td>\n",
       "      <td>2970.000000</td>\n",
       "      <td>160.000000</td>\n",
       "      <td>41.510000</td>\n",
       "      <td>0.070000</td>\n",
       "      <td>7.00000</td>\n",
       "      <td>0.120000</td>\n",
       "      <td>0.100000</td>\n",
       "    </tr>\n",
       "    <tr>\n",
       "      <th>75%</th>\n",
       "      <td>0.062200</td>\n",
       "      <td>139.250000</td>\n",
       "      <td>15.000000</td>\n",
       "      <td>3870.000000</td>\n",
       "      <td>210.000000</td>\n",
       "      <td>41.860000</td>\n",
       "      <td>0.090000</td>\n",
       "      <td>7.40750</td>\n",
       "      <td>0.170000</td>\n",
       "      <td>0.200000</td>\n",
       "    </tr>\n",
       "    <tr>\n",
       "      <th>max</th>\n",
       "      <td>0.184000</td>\n",
       "      <td>268.000000</td>\n",
       "      <td>30.000000</td>\n",
       "      <td>8240.000000</td>\n",
       "      <td>1190.000000</td>\n",
       "      <td>43.610000</td>\n",
       "      <td>0.200000</td>\n",
       "      <td>8.52000</td>\n",
       "      <td>0.310000</td>\n",
       "      <td>1.060000</td>\n",
       "    </tr>\n",
       "  </tbody>\n",
       "</table>\n",
       "</div>"
      ],
      "text/plain": [
       "               z      sigma*   e_sigma*         FWHM       e_FWHM       logL  \\\n",
       "count  88.000000   88.000000  88.000000    71.000000    71.000000  71.000000   \n",
       "mean    0.048665  117.142045  11.805682  3206.056338   210.760563  41.504225   \n",
       "std     0.032562   48.285108   5.308383  1759.679743   191.219953   0.663268   \n",
       "min     0.000947   30.000000   2.900000   810.000000    41.000000  40.100000   \n",
       "25%     0.027750   87.025000   7.750000  1905.000000   110.000000  41.155000   \n",
       "50%     0.042250  113.500000  12.000000  2970.000000   160.000000  41.510000   \n",
       "75%     0.062200  139.250000  15.000000  3870.000000   210.000000  41.860000   \n",
       "max     0.184000  268.000000  30.000000  8240.000000  1190.000000  43.610000   \n",
       "\n",
       "          e_logL      logM     E_logM     e_logM  \n",
       "count  71.000000  88.00000  15.000000  88.000000  \n",
       "mean    0.078028   6.86625   0.140667   0.189886  \n",
       "std     0.041700   0.72825   0.074303   0.172470  \n",
       "min     0.030000   4.90000   0.020000   0.020000  \n",
       "25%     0.050000   6.30000   0.100000   0.100000  \n",
       "50%     0.070000   7.00000   0.120000   0.100000  \n",
       "75%     0.090000   7.40750   0.170000   0.200000  \n",
       "max     0.200000   8.52000   0.310000   1.060000  "
      ]
     },
     "execution_count": 3,
     "metadata": {},
     "output_type": "execute_result"
    }
   ],
   "source": [
    "df = data.to_pandas()\n",
    "df.describe()"
   ]
  },
  {
   "cell_type": "markdown",
   "metadata": {
    "id": "YHzhHqc1puiC"
   },
   "source": [
    "The dataframe includes data from 88 supermassive black holes. The columns correspond to\n",
    "\n",
    "**z** : Redshift \\\n",
    "**sigma**\\* : Stellar velocity dispersion \\\n",
    "**e_sigma**\\* : Formal uncertainty in sigma* \\\n",
    "**FWHM** : H<sub>$\\alpha$</sub> Full-Width at Half Maximum \\\n",
    "**e_FWHM** : Formal uncertainty in FWHM \\\n",
    "**logL** : $\\log_{10}$ of H<sub>$\\alpha$</sub> luminosity in erg/s \\\n",
    "**e_logL** : Formal uncertainty in logL \\\n",
    "**logM** : $\\log_{10}$ of the Black Hole mass \\\n",
    "**E_logM** : Formal (upper limit) uncertainty in logM \\\n",
    "**e_logM** : Formal (lower limit) uncertainty in logM \n"
   ]
  },
  {
   "cell_type": "markdown",
   "metadata": {
    "id": "HVl60A-KpuiD"
   },
   "source": [
    "We will make a linear fit between the variables $\\log M$ and $\\log \\left( \\frac{\\sigma_*}{\\sigma_0} \\right)$ and between the varibles $\\log M$ and $\\log  \\text{FWHM} $, where $\\sigma_0 = 200.$ is a reference value given by the authors. Hence, we add the corresponding columns to the dataframe."
   ]
  },
  {
   "cell_type": "code",
   "execution_count": 4,
   "metadata": {
    "colab": {
     "base_uri": "https://localhost:8080/",
     "height": 297
    },
    "executionInfo": {
     "elapsed": 426,
     "status": "ok",
     "timestamp": 1618151919523,
     "user": {
      "displayName": "Eduard Alexis Larranaga",
      "photoUrl": "https://lh3.googleusercontent.com/a-/AOh14GgCVABzEgj-rCdyxWa29RnA0kIYUCXAaVbnRYOEhQ=s64",
      "userId": "04402438389940282602"
     },
     "user_tz": 300
    },
    "id": "HqEvXIHbpuiD",
    "outputId": "4b6e65b0-8df9-4d75-eff3-6bb2df639cbf"
   },
   "outputs": [
    {
     "data": {
      "text/html": [
       "<div>\n",
       "<style scoped>\n",
       "    .dataframe tbody tr th:only-of-type {\n",
       "        vertical-align: middle;\n",
       "    }\n",
       "\n",
       "    .dataframe tbody tr th {\n",
       "        vertical-align: top;\n",
       "    }\n",
       "\n",
       "    .dataframe thead th {\n",
       "        text-align: right;\n",
       "    }\n",
       "</style>\n",
       "<table border=\"1\" class=\"dataframe\">\n",
       "  <thead>\n",
       "    <tr style=\"text-align: right;\">\n",
       "      <th></th>\n",
       "      <th>z</th>\n",
       "      <th>sigma*</th>\n",
       "      <th>e_sigma*</th>\n",
       "      <th>FWHM</th>\n",
       "      <th>e_FWHM</th>\n",
       "      <th>logL</th>\n",
       "      <th>e_logL</th>\n",
       "      <th>logM</th>\n",
       "      <th>E_logM</th>\n",
       "      <th>e_logM</th>\n",
       "      <th>logsigma*</th>\n",
       "      <th>logFWHM</th>\n",
       "    </tr>\n",
       "  </thead>\n",
       "  <tbody>\n",
       "    <tr>\n",
       "      <th>count</th>\n",
       "      <td>88.000000</td>\n",
       "      <td>88.000000</td>\n",
       "      <td>88.000000</td>\n",
       "      <td>71.000000</td>\n",
       "      <td>71.000000</td>\n",
       "      <td>71.000000</td>\n",
       "      <td>71.000000</td>\n",
       "      <td>88.00000</td>\n",
       "      <td>15.000000</td>\n",
       "      <td>88.000000</td>\n",
       "      <td>88.000000</td>\n",
       "      <td>71.000000</td>\n",
       "    </tr>\n",
       "    <tr>\n",
       "      <th>mean</th>\n",
       "      <td>0.048665</td>\n",
       "      <td>117.142045</td>\n",
       "      <td>11.805682</td>\n",
       "      <td>3206.056338</td>\n",
       "      <td>210.760563</td>\n",
       "      <td>41.504225</td>\n",
       "      <td>0.078028</td>\n",
       "      <td>6.86625</td>\n",
       "      <td>0.140667</td>\n",
       "      <td>0.189886</td>\n",
       "      <td>-0.272206</td>\n",
       "      <td>3.440999</td>\n",
       "    </tr>\n",
       "    <tr>\n",
       "      <th>std</th>\n",
       "      <td>0.032562</td>\n",
       "      <td>48.285108</td>\n",
       "      <td>5.308383</td>\n",
       "      <td>1759.679743</td>\n",
       "      <td>191.219953</td>\n",
       "      <td>0.663268</td>\n",
       "      <td>0.041700</td>\n",
       "      <td>0.72825</td>\n",
       "      <td>0.074303</td>\n",
       "      <td>0.172470</td>\n",
       "      <td>0.195820</td>\n",
       "      <td>0.246118</td>\n",
       "    </tr>\n",
       "    <tr>\n",
       "      <th>min</th>\n",
       "      <td>0.000947</td>\n",
       "      <td>30.000000</td>\n",
       "      <td>2.900000</td>\n",
       "      <td>810.000000</td>\n",
       "      <td>41.000000</td>\n",
       "      <td>40.100000</td>\n",
       "      <td>0.030000</td>\n",
       "      <td>4.90000</td>\n",
       "      <td>0.020000</td>\n",
       "      <td>0.020000</td>\n",
       "      <td>-0.823909</td>\n",
       "      <td>2.908485</td>\n",
       "    </tr>\n",
       "    <tr>\n",
       "      <th>25%</th>\n",
       "      <td>0.027750</td>\n",
       "      <td>87.025000</td>\n",
       "      <td>7.750000</td>\n",
       "      <td>1905.000000</td>\n",
       "      <td>110.000000</td>\n",
       "      <td>41.155000</td>\n",
       "      <td>0.050000</td>\n",
       "      <td>6.30000</td>\n",
       "      <td>0.100000</td>\n",
       "      <td>0.100000</td>\n",
       "      <td>-0.361386</td>\n",
       "      <td>3.279893</td>\n",
       "    </tr>\n",
       "    <tr>\n",
       "      <th>50%</th>\n",
       "      <td>0.042250</td>\n",
       "      <td>113.500000</td>\n",
       "      <td>12.000000</td>\n",
       "      <td>2970.000000</td>\n",
       "      <td>160.000000</td>\n",
       "      <td>41.510000</td>\n",
       "      <td>0.070000</td>\n",
       "      <td>7.00000</td>\n",
       "      <td>0.120000</td>\n",
       "      <td>0.100000</td>\n",
       "      <td>-0.246038</td>\n",
       "      <td>3.472756</td>\n",
       "    </tr>\n",
       "    <tr>\n",
       "      <th>75%</th>\n",
       "      <td>0.062200</td>\n",
       "      <td>139.250000</td>\n",
       "      <td>15.000000</td>\n",
       "      <td>3870.000000</td>\n",
       "      <td>210.000000</td>\n",
       "      <td>41.860000</td>\n",
       "      <td>0.090000</td>\n",
       "      <td>7.40750</td>\n",
       "      <td>0.170000</td>\n",
       "      <td>0.200000</td>\n",
       "      <td>-0.157237</td>\n",
       "      <td>3.587710</td>\n",
       "    </tr>\n",
       "    <tr>\n",
       "      <th>max</th>\n",
       "      <td>0.184000</td>\n",
       "      <td>268.000000</td>\n",
       "      <td>30.000000</td>\n",
       "      <td>8240.000000</td>\n",
       "      <td>1190.000000</td>\n",
       "      <td>43.610000</td>\n",
       "      <td>0.200000</td>\n",
       "      <td>8.52000</td>\n",
       "      <td>0.310000</td>\n",
       "      <td>1.060000</td>\n",
       "      <td>0.127105</td>\n",
       "      <td>3.915927</td>\n",
       "    </tr>\n",
       "  </tbody>\n",
       "</table>\n",
       "</div>"
      ],
      "text/plain": [
       "               z      sigma*   e_sigma*         FWHM       e_FWHM       logL  \\\n",
       "count  88.000000   88.000000  88.000000    71.000000    71.000000  71.000000   \n",
       "mean    0.048665  117.142045  11.805682  3206.056338   210.760563  41.504225   \n",
       "std     0.032562   48.285108   5.308383  1759.679743   191.219953   0.663268   \n",
       "min     0.000947   30.000000   2.900000   810.000000    41.000000  40.100000   \n",
       "25%     0.027750   87.025000   7.750000  1905.000000   110.000000  41.155000   \n",
       "50%     0.042250  113.500000  12.000000  2970.000000   160.000000  41.510000   \n",
       "75%     0.062200  139.250000  15.000000  3870.000000   210.000000  41.860000   \n",
       "max     0.184000  268.000000  30.000000  8240.000000  1190.000000  43.610000   \n",
       "\n",
       "          e_logL      logM     E_logM     e_logM  logsigma*    logFWHM  \n",
       "count  71.000000  88.00000  15.000000  88.000000  88.000000  71.000000  \n",
       "mean    0.078028   6.86625   0.140667   0.189886  -0.272206   3.440999  \n",
       "std     0.041700   0.72825   0.074303   0.172470   0.195820   0.246118  \n",
       "min     0.030000   4.90000   0.020000   0.020000  -0.823909   2.908485  \n",
       "25%     0.050000   6.30000   0.100000   0.100000  -0.361386   3.279893  \n",
       "50%     0.070000   7.00000   0.120000   0.100000  -0.246038   3.472756  \n",
       "75%     0.090000   7.40750   0.170000   0.200000  -0.157237   3.587710  \n",
       "max     0.200000   8.52000   0.310000   1.060000   0.127105   3.915927  "
      ]
     },
     "execution_count": 4,
     "metadata": {},
     "output_type": "execute_result"
    }
   ],
   "source": [
    "sigma0 = 200.\n",
    "df['logsigma*'] = np.log10(df['sigma*']/sigma0)\n",
    "df['logFWHM'] = np.log10(df['FWHM'])\n",
    "df.describe()"
   ]
  },
  {
   "cell_type": "code",
   "execution_count": 9,
   "metadata": {
    "colab": {
     "base_uri": "https://localhost:8080/",
     "height": 348
    },
    "executionInfo": {
     "elapsed": 1540,
     "status": "ok",
     "timestamp": 1618151932846,
     "user": {
      "displayName": "Eduard Alexis Larranaga",
      "photoUrl": "https://lh3.googleusercontent.com/a-/AOh14GgCVABzEgj-rCdyxWa29RnA0kIYUCXAaVbnRYOEhQ=s64",
      "userId": "04402438389940282602"
     },
     "user_tz": 300
    },
    "id": "t-pZidH-puiD",
    "outputId": "0f075789-9c8e-428b-d8ee-3e32b58c3cf5"
   },
   "outputs": [
    {
     "data": {
      "image/png": "[encoded data removed]",
      "text/plain": [
       "<Figure size 1008x360 with 2 Axes>"
      ]
     },
     "metadata": {
      "needs_background": "light",
      "tags": []
     },
     "output_type": "display_data"
    }
   ],
   "source": [
    "\n",
    "fig, ax = plt.subplots(1,2, figsize=(14,5))\n",
    "ax[0].scatter(df['logsigma*'], df['logM'])\n",
    "ax[0].set_xlabel(r'$\\log _{10} \\left(\\frac{\\sigma_*}{\\sigma_0} \\right)$')\n",
    "ax[0].set_ylabel(r'$\\log _{10} \\left(\\frac{M}{M_{\\odot}} \\right)$')\n",
    "\n",
    "ax[1].scatter(df['logFWHM'], df['logM'])\n",
    "ax[1].set_xlabel(r'$\\log _{10}$FWHM')\n",
    "ax[1].set_ylabel(r'$\\log _{10} \\left(\\frac{M}{M_{\\odot}} \\right)$')\n",
    "\n",
    "plt.show()"
   ]
  },
  {
   "cell_type": "markdown",
   "metadata": {
    "id": "XKVPHCVepuiE"
   },
   "source": [
    "### Multidimensional Linear Fit using  `scikit-learn`\n",
    "\n",
    "From the `scikit-learn.linear_model` package, we will import the function `LinearRegression`. Complete documentation about it can be found at\n",
    "\n",
    "https://scikit-learn.org/stable/modules/generated/sklearn.linear_model.LinearRegression.html\n",
    "\n",
    "This function fits a linear model to minimize the residual sum of squares between the observed targets in the dataset and the targets predicted by the linear approximation (ordinary least squares fit).\n",
    "\n",
    "Before making the fit, we need to prepare our data. First, we handle the missing values in the features,"
   ]
  },
  {
   "cell_type": "code",
   "execution_count": 5,
   "metadata": {
    "colab": {
     "base_uri": "https://localhost:8080/",
     "height": 297
    },
    "executionInfo": {
     "elapsed": 548,
     "status": "ok",
     "timestamp": 1618151937033,
     "user": {
      "displayName": "Eduard Alexis Larranaga",
      "photoUrl": "https://lh3.googleusercontent.com/a-/AOh14GgCVABzEgj-rCdyxWa29RnA0kIYUCXAaVbnRYOEhQ=s64",
      "userId": "04402438389940282602"
     },
     "user_tz": 300
    },
    "id": "t54cvSI_puiE",
    "outputId": "5eb2a08f-d998-40fb-e613-55dd11b61623"
   },
   "outputs": [
    {
     "data": {
      "text/html": [
       "<div>\n",
       "<style scoped>\n",
       "    .dataframe tbody tr th:only-of-type {\n",
       "        vertical-align: middle;\n",
       "    }\n",
       "\n",
       "    .dataframe tbody tr th {\n",
       "        vertical-align: top;\n",
       "    }\n",
       "\n",
       "    .dataframe thead th {\n",
       "        text-align: right;\n",
       "    }\n",
       "</style>\n",
       "<table border=\"1\" class=\"dataframe\">\n",
       "  <thead>\n",
       "    <tr style=\"text-align: right;\">\n",
       "      <th></th>\n",
       "      <th>logM</th>\n",
       "      <th>logsigma*</th>\n",
       "      <th>logFWHM</th>\n",
       "    </tr>\n",
       "  </thead>\n",
       "  <tbody>\n",
       "    <tr>\n",
       "      <th>count</th>\n",
       "      <td>71.000000</td>\n",
       "      <td>71.000000</td>\n",
       "      <td>71.000000</td>\n",
       "    </tr>\n",
       "    <tr>\n",
       "      <th>mean</th>\n",
       "      <td>6.819718</td>\n",
       "      <td>-0.286024</td>\n",
       "      <td>3.440999</td>\n",
       "    </tr>\n",
       "    <tr>\n",
       "      <th>std</th>\n",
       "      <td>0.660653</td>\n",
       "      <td>0.176979</td>\n",
       "      <td>0.246118</td>\n",
       "    </tr>\n",
       "    <tr>\n",
       "      <th>min</th>\n",
       "      <td>5.100000</td>\n",
       "      <td>-0.744727</td>\n",
       "      <td>2.908485</td>\n",
       "    </tr>\n",
       "    <tr>\n",
       "      <th>25%</th>\n",
       "      <td>6.300000</td>\n",
       "      <td>-0.380551</td>\n",
       "      <td>3.279893</td>\n",
       "    </tr>\n",
       "    <tr>\n",
       "      <th>50%</th>\n",
       "      <td>6.900000</td>\n",
       "      <td>-0.255707</td>\n",
       "      <td>3.472756</td>\n",
       "    </tr>\n",
       "    <tr>\n",
       "      <th>75%</th>\n",
       "      <td>7.300000</td>\n",
       "      <td>-0.161151</td>\n",
       "      <td>3.587710</td>\n",
       "    </tr>\n",
       "    <tr>\n",
       "      <th>max</th>\n",
       "      <td>8.200000</td>\n",
       "      <td>0.077368</td>\n",
       "      <td>3.915927</td>\n",
       "    </tr>\n",
       "  </tbody>\n",
       "</table>\n",
       "</div>"
      ],
      "text/plain": [
       "            logM  logsigma*    logFWHM\n",
       "count  71.000000  71.000000  71.000000\n",
       "mean    6.819718  -0.286024   3.440999\n",
       "std     0.660653   0.176979   0.246118\n",
       "min     5.100000  -0.744727   2.908485\n",
       "25%     6.300000  -0.380551   3.279893\n",
       "50%     6.900000  -0.255707   3.472756\n",
       "75%     7.300000  -0.161151   3.587710\n",
       "max     8.200000   0.077368   3.915927"
      ]
     },
     "execution_count": 5,
     "metadata": {},
     "output_type": "execute_result"
    }
   ],
   "source": [
    "newdf = df[['logM','logsigma*','logFWHM']]\n",
    "newdf = newdf.apply (pd.to_numeric, errors='coerce')\n",
    "newdf = newdf.dropna()\n",
    "newdf.describe()"
   ]
  },
  {
   "cell_type": "markdown",
   "metadata": {
    "id": "w51hN4gzpuiF"
   },
   "source": [
    "Now, we define two new dataframes with the important features for the linear model. We use the capital letter X to identify the independent parameter data because it will be an array for the multidimensional fit."
   ]
  },
  {
   "cell_type": "code",
   "execution_count": 6,
   "metadata": {
    "executionInfo": {
     "elapsed": 427,
     "status": "ok",
     "timestamp": 1618151940928,
     "user": {
      "displayName": "Eduard Alexis Larranaga",
      "photoUrl": "https://lh3.googleusercontent.com/a-/AOh14GgCVABzEgj-rCdyxWa29RnA0kIYUCXAaVbnRYOEhQ=s64",
      "userId": "04402438389940282602"
     },
     "user_tz": 300
    },
    "id": "Wag3Wip-puiF"
   },
   "outputs": [],
   "source": [
    "Xdf = newdf[['logsigma*','logFWHM']]\n",
    "ydf = newdf[['logM']]"
   ]
  },
  {
   "cell_type": "markdown",
   "metadata": {
    "id": "3jAshMyopuiF"
   },
   "source": [
    "We have 71 samples with three features. "
   ]
  },
  {
   "cell_type": "code",
   "execution_count": 7,
   "metadata": {
    "colab": {
     "base_uri": "https://localhost:8080/",
     "height": 297
    },
    "executionInfo": {
     "elapsed": 436,
     "status": "ok",
     "timestamp": 1618151943693,
     "user": {
      "displayName": "Eduard Alexis Larranaga",
      "photoUrl": "https://lh3.googleusercontent.com/a-/AOh14GgCVABzEgj-rCdyxWa29RnA0kIYUCXAaVbnRYOEhQ=s64",
      "userId": "04402438389940282602"
     },
     "user_tz": 300
    },
    "id": "AMuc5__ppuiF",
    "outputId": "0dd4486b-49c1-4594-e13a-e05c57ff2a01"
   },
   "outputs": [
    {
     "data": {
      "text/html": [
       "<div>\n",
       "<style scoped>\n",
       "    .dataframe tbody tr th:only-of-type {\n",
       "        vertical-align: middle;\n",
       "    }\n",
       "\n",
       "    .dataframe tbody tr th {\n",
       "        vertical-align: top;\n",
       "    }\n",
       "\n",
       "    .dataframe thead th {\n",
       "        text-align: right;\n",
       "    }\n",
       "</style>\n",
       "<table border=\"1\" class=\"dataframe\">\n",
       "  <thead>\n",
       "    <tr style=\"text-align: right;\">\n",
       "      <th></th>\n",
       "      <th>logsigma*</th>\n",
       "      <th>logFWHM</th>\n",
       "    </tr>\n",
       "  </thead>\n",
       "  <tbody>\n",
       "    <tr>\n",
       "      <th>count</th>\n",
       "      <td>71.000000</td>\n",
       "      <td>71.000000</td>\n",
       "    </tr>\n",
       "    <tr>\n",
       "      <th>mean</th>\n",
       "      <td>-0.286024</td>\n",
       "      <td>3.440999</td>\n",
       "    </tr>\n",
       "    <tr>\n",
       "      <th>std</th>\n",
       "      <td>0.176979</td>\n",
       "      <td>0.246118</td>\n",
       "    </tr>\n",
       "    <tr>\n",
       "      <th>min</th>\n",
       "      <td>-0.744727</td>\n",
       "      <td>2.908485</td>\n",
       "    </tr>\n",
       "    <tr>\n",
       "      <th>25%</th>\n",
       "      <td>-0.380551</td>\n",
       "      <td>3.279893</td>\n",
       "    </tr>\n",
       "    <tr>\n",
       "      <th>50%</th>\n",
       "      <td>-0.255707</td>\n",
       "      <td>3.472756</td>\n",
       "    </tr>\n",
       "    <tr>\n",
       "      <th>75%</th>\n",
       "      <td>-0.161151</td>\n",
       "      <td>3.587710</td>\n",
       "    </tr>\n",
       "    <tr>\n",
       "      <th>max</th>\n",
       "      <td>0.077368</td>\n",
       "      <td>3.915927</td>\n",
       "    </tr>\n",
       "  </tbody>\n",
       "</table>\n",
       "</div>"
      ],
      "text/plain": [
       "       logsigma*    logFWHM\n",
       "count  71.000000  71.000000\n",
       "mean   -0.286024   3.440999\n",
       "std     0.176979   0.246118\n",
       "min    -0.744727   2.908485\n",
       "25%    -0.380551   3.279893\n",
       "50%    -0.255707   3.472756\n",
       "75%    -0.161151   3.587710\n",
       "max     0.077368   3.915927"
      ]
     },
     "execution_count": 7,
     "metadata": {},
     "output_type": "execute_result"
    }
   ],
   "source": [
    "Xdf.describe() "
   ]
  },
  {
   "cell_type": "code",
   "execution_count": 8,
   "metadata": {
    "colab": {
     "base_uri": "https://localhost:8080/",
     "height": 297
    },
    "executionInfo": {
     "elapsed": 444,
     "status": "ok",
     "timestamp": 1618151947568,
     "user": {
      "displayName": "Eduard Alexis Larranaga",
      "photoUrl": "https://lh3.googleusercontent.com/a-/AOh14GgCVABzEgj-rCdyxWa29RnA0kIYUCXAaVbnRYOEhQ=s64",
      "userId": "04402438389940282602"
     },
     "user_tz": 300
    },
    "id": "U1vZaAsxpuiH",
    "outputId": "af813dfb-a8e5-424f-d6ef-949af7361c1a"
   },
   "outputs": [
    {
     "data": {
      "text/html": [
       "<div>\n",
       "<style scoped>\n",
       "    .dataframe tbody tr th:only-of-type {\n",
       "        vertical-align: middle;\n",
       "    }\n",
       "\n",
       "    .dataframe tbody tr th {\n",
       "        vertical-align: top;\n",
       "    }\n",
       "\n",
       "    .dataframe thead th {\n",
       "        text-align: right;\n",
       "    }\n",
       "</style>\n",
       "<table border=\"1\" class=\"dataframe\">\n",
       "  <thead>\n",
       "    <tr style=\"text-align: right;\">\n",
       "      <th></th>\n",
       "      <th>logM</th>\n",
       "    </tr>\n",
       "  </thead>\n",
       "  <tbody>\n",
       "    <tr>\n",
       "      <th>count</th>\n",
       "      <td>71.000000</td>\n",
       "    </tr>\n",
       "    <tr>\n",
       "      <th>mean</th>\n",
       "      <td>6.819718</td>\n",
       "    </tr>\n",
       "    <tr>\n",
       "      <th>std</th>\n",
       "      <td>0.660653</td>\n",
       "    </tr>\n",
       "    <tr>\n",
       "      <th>min</th>\n",
       "      <td>5.100000</td>\n",
       "    </tr>\n",
       "    <tr>\n",
       "      <th>25%</th>\n",
       "      <td>6.300000</td>\n",
       "    </tr>\n",
       "    <tr>\n",
       "      <th>50%</th>\n",
       "      <td>6.900000</td>\n",
       "    </tr>\n",
       "    <tr>\n",
       "      <th>75%</th>\n",
       "      <td>7.300000</td>\n",
       "    </tr>\n",
       "    <tr>\n",
       "      <th>max</th>\n",
       "      <td>8.200000</td>\n",
       "    </tr>\n",
       "  </tbody>\n",
       "</table>\n",
       "</div>"
      ],
      "text/plain": [
       "            logM\n",
       "count  71.000000\n",
       "mean    6.819718\n",
       "std     0.660653\n",
       "min     5.100000\n",
       "25%     6.300000\n",
       "50%     6.900000\n",
       "75%     7.300000\n",
       "max     8.200000"
      ]
     },
     "execution_count": 8,
     "metadata": {},
     "output_type": "execute_result"
    }
   ],
   "source": [
    "ydf.describe()"
   ]
  },
  {
   "cell_type": "markdown",
   "metadata": {
    "id": "FfsGI9fgpuiH"
   },
   "source": [
    "We will separate the dataframes into two sets, a training set and a testing set. We will use the function `train_test_split` function from the `sklearn.model_selection` package. We will use a size of 10% for the test set. More information on this function at\n",
    "\n",
    "https://scikit-learn.org/stable/modules/generated/sklearn.model_selection.train_test_split.html"
   ]
  },
  {
   "cell_type": "code",
   "execution_count": 9,
   "metadata": {
    "executionInfo": {
     "elapsed": 796,
     "status": "ok",
     "timestamp": 1618151954752,
     "user": {
      "displayName": "Eduard Alexis Larranaga",
      "photoUrl": "https://lh3.googleusercontent.com/a-/AOh14GgCVABzEgj-rCdyxWa29RnA0kIYUCXAaVbnRYOEhQ=s64",
      "userId": "04402438389940282602"
     },
     "user_tz": 300
    },
    "id": "fhTU168mpuiI"
   },
   "outputs": [],
   "source": [
    "from sklearn.model_selection import train_test_split\n",
    "\n",
    "X_train, X_test, y_train, y_test = train_test_split(Xdf, ydf, random_state=60, test_size=0.15)"
   ]
  },
  {
   "cell_type": "markdown",
   "metadata": {
    "id": "gMNZyjP0puiI"
   },
   "source": [
    "We obtained the following sets "
   ]
  },
  {
   "cell_type": "code",
   "execution_count": 11,
   "metadata": {
    "colab": {
     "base_uri": "https://localhost:8080/"
    },
    "executionInfo": {
     "elapsed": 418,
     "status": "ok",
     "timestamp": 1618151957508,
     "user": {
      "displayName": "Eduard Alexis Larranaga",
      "photoUrl": "https://lh3.googleusercontent.com/a-/AOh14GgCVABzEgj-rCdyxWa29RnA0kIYUCXAaVbnRYOEhQ=s64",
      "userId": "04402438389940282602"
     },
     "user_tz": 300
    },
    "id": "I1qUmEbCpuiI",
    "outputId": "26d3c75d-eb4e-4c6d-e068-f54eecf256de"
   },
   "outputs": [
    {
     "data": {
      "text/plain": [
       "((60, 2), (60, 1))"
      ]
     },
     "execution_count": 11,
     "metadata": {},
     "output_type": "execute_result"
    }
   ],
   "source": [
    "X_train.shape , y_train.shape"
   ]
  },
  {
   "cell_type": "code",
   "execution_count": 12,
   "metadata": {
    "colab": {
     "base_uri": "https://localhost:8080/"
    },
    "executionInfo": {
     "elapsed": 465,
     "status": "ok",
     "timestamp": 1618151959081,
     "user": {
      "displayName": "Eduard Alexis Larranaga",
      "photoUrl": "https://lh3.googleusercontent.com/a-/AOh14GgCVABzEgj-rCdyxWa29RnA0kIYUCXAaVbnRYOEhQ=s64",
      "userId": "04402438389940282602"
     },
     "user_tz": 300
    },
    "id": "qHFJs1IXpuiI",
    "outputId": "c826e1eb-cd5a-458e-8183-6f486ec94586"
   },
   "outputs": [
    {
     "data": {
      "text/plain": [
       "((11, 2), (11, 1))"
      ]
     },
     "execution_count": 12,
     "metadata": {},
     "output_type": "execute_result"
    }
   ],
   "source": [
    "X_test.shape , y_test.shape"
   ]
  },
  {
   "cell_type": "markdown",
   "metadata": {
    "id": "-Qfg0HU9puiJ"
   },
   "source": [
    "Now, we train the linear model\n",
    "\n",
    "$y = \\theta_0 + \\theta_1 x_1 + \\theta_2 x_2$ ,\n",
    "\n",
    "with the method `LinearRegression().fit()` and the training data"
   ]
  },
  {
   "cell_type": "code",
   "execution_count": 13,
   "metadata": {
    "executionInfo": {
     "elapsed": 459,
     "status": "ok",
     "timestamp": 1618152031443,
     "user": {
      "displayName": "Eduard Alexis Larranaga",
      "photoUrl": "https://lh3.googleusercontent.com/a-/AOh14GgCVABzEgj-rCdyxWa29RnA0kIYUCXAaVbnRYOEhQ=s64",
      "userId": "04402438389940282602"
     },
     "user_tz": 300
    },
    "id": "0eHaE64epuiJ"
   },
   "outputs": [],
   "source": [
    "lr = LinearRegression().fit(X_train, y_train)"
   ]
  },
  {
   "cell_type": "markdown",
   "metadata": {
    "id": "gTQrNOG-puiJ"
   },
   "source": [
    "The parameters obtained from the lienar fit are recovered with the methods `.intercept_` ($\\theta_0$) and `.coef_` ($\\theta_1$ and $\\theta_2$)."
   ]
  },
  {
   "cell_type": "code",
   "execution_count": 14,
   "metadata": {
    "colab": {
     "base_uri": "https://localhost:8080/"
    },
    "executionInfo": {
     "elapsed": 623,
     "status": "ok",
     "timestamp": 1618152033348,
     "user": {
      "displayName": "Eduard Alexis Larranaga",
      "photoUrl": "https://lh3.googleusercontent.com/a-/AOh14GgCVABzEgj-rCdyxWa29RnA0kIYUCXAaVbnRYOEhQ=s64",
      "userId": "04402438389940282602"
     },
     "user_tz": 300
    },
    "id": "JzJSPVLhpuiJ",
    "outputId": "c044b462-5351-40d9-ed02-114b6fb82f94"
   },
   "outputs": [
    {
     "data": {
      "text/plain": [
       "(array([-0.25101491]), array([[0.67319112, 2.10630893]]))"
      ]
     },
     "execution_count": 14,
     "metadata": {},
     "output_type": "execute_result"
    }
   ],
   "source": [
    "lr.intercept_ , lr.coef_ "
   ]
  },
  {
   "cell_type": "markdown",
   "metadata": {
    "id": "Qn3Y30RzpuiJ"
   },
   "source": [
    "Using the method `.score()`, which returns the coefficient of determination $R^2$ for the model, we obtain, for the training and the testing sets, the following results"
   ]
  },
  {
   "cell_type": "code",
   "execution_count": 15,
   "metadata": {
    "colab": {
     "base_uri": "https://localhost:8080/"
    },
    "executionInfo": {
     "elapsed": 446,
     "status": "ok",
     "timestamp": 1618152038321,
     "user": {
      "displayName": "Eduard Alexis Larranaga",
      "photoUrl": "https://lh3.googleusercontent.com/a-/AOh14GgCVABzEgj-rCdyxWa29RnA0kIYUCXAaVbnRYOEhQ=s64",
      "userId": "04402438389940282602"
     },
     "user_tz": 300
    },
    "id": "Nt1knBKMpuiK",
    "outputId": "194b11b4-2ed7-4976-919d-24259ef145a1"
   },
   "outputs": [
    {
     "data": {
      "text/plain": [
       "0.8729674784840312"
      ]
     },
     "execution_count": 15,
     "metadata": {},
     "output_type": "execute_result"
    }
   ],
   "source": [
    "lr.score(X_train, y_train)"
   ]
  },
  {
   "cell_type": "code",
   "execution_count": 16,
   "metadata": {
    "colab": {
     "base_uri": "https://localhost:8080/"
    },
    "executionInfo": {
     "elapsed": 442,
     "status": "ok",
     "timestamp": 1618152039623,
     "user": {
      "displayName": "Eduard Alexis Larranaga",
      "photoUrl": "https://lh3.googleusercontent.com/a-/AOh14GgCVABzEgj-rCdyxWa29RnA0kIYUCXAaVbnRYOEhQ=s64",
      "userId": "04402438389940282602"
     },
     "user_tz": 300
    },
    "id": "9GPauqp0puiK",
    "outputId": "392b66ae-064f-43e2-b8b6-b0dbc2027157"
   },
   "outputs": [
    {
     "data": {
      "text/plain": [
       "0.8417062908502944"
      ]
     },
     "execution_count": 16,
     "metadata": {},
     "output_type": "execute_result"
    }
   ],
   "source": [
    "lr.score(X_test, y_test)"
   ]
  },
  {
   "cell_type": "markdown",
   "metadata": {
    "id": "oGBUiLqFpuiK"
   },
   "source": [
    "#### Score of the linear model depending on the train set size\n"
   ]
  },
  {
   "cell_type": "code",
   "execution_count": 17,
   "metadata": {
    "colab": {
     "base_uri": "https://localhost:8080/",
     "height": 285
    },
    "executionInfo": {
     "elapsed": 1296,
     "status": "ok",
     "timestamp": 1618152046726,
     "user": {
      "displayName": "Eduard Alexis Larranaga",
      "photoUrl": "https://lh3.googleusercontent.com/a-/AOh14GgCVABzEgj-rCdyxWa29RnA0kIYUCXAaVbnRYOEhQ=s64",
      "userId": "04402438389940282602"
     },
     "user_tz": 300
    },
    "id": "iLX7NhB1puiK",
    "outputId": "83b895b2-3579-4b41-cc08-cbea9819b66a"
   },
   "outputs": [
    {
     "data": {
      "image/png": "[encoded data removed]",
      "text/plain": [
       "<Figure size 432x288 with 1 Axes>"
      ]
     },
     "metadata": {
      "needs_background": "light"
     },
     "output_type": "display_data"
    }
   ],
   "source": [
    "training_acc = []\n",
    "test_acc = []\n",
    "\n",
    "training_size = np.linspace(0.1,0.9,50)\n",
    "\n",
    "for s in training_size:\n",
    "    X_train, X_test, y_train, y_test = train_test_split(Xdf, ydf, random_state=60, train_size=s)\n",
    "    lr = LinearRegression().fit(X_train, y_train)\n",
    "    training_acc.append(lr.score(X_train,y_train))\n",
    "    test_acc.append(lr.score(X_test,y_test))\n",
    "    \n",
    "plt.plot(training_size, training_acc, label='train accuracy')\n",
    "plt.plot(training_size, test_acc, label='test accuracy')\n",
    "plt.xlabel(r'Train size')\n",
    "plt.ylabel(r'Accuracy')\n",
    "plt.legend()\n",
    "plt.show()"
   ]
  },
  {
   "cell_type": "markdown",
   "metadata": {
    "id": "Ki9obypfpuiK"
   },
   "source": [
    "---\n",
    "### Ridge Regression\n",
    "From the `scikit-learn.linear_model` package, we will import the function `Ridge`. Complete documentation about it can be found at\n",
    "\n",
    "https://scikit-learn.org/stable/modules/generated/sklearn.linear_model.Ridge.html\n",
    "\n",
    "This function fits a linear model to minimize the residual sum of squares between the observed targets in the dataset and the targets predicted by the linear approximation (ordinary least squares fit), but it is regularized with the L2-norm."
   ]
  },
  {
   "cell_type": "code",
   "execution_count": 23,
   "metadata": {
    "colab": {
     "base_uri": "https://localhost:8080/"
    },
    "executionInfo": {
     "elapsed": 753,
     "status": "ok",
     "timestamp": 1618152060965,
     "user": {
      "displayName": "Eduard Alexis Larranaga",
      "photoUrl": "https://lh3.googleusercontent.com/a-/AOh14GgCVABzEgj-rCdyxWa29RnA0kIYUCXAaVbnRYOEhQ=s64",
      "userId": "04402438389940282602"
     },
     "user_tz": 300
    },
    "id": "qLVWqVJdpuiL",
    "outputId": "fe04d854-806b-4407-e976-ef005d13a95a"
   },
   "outputs": [
    {
     "data": {
      "text/plain": [
       "(array([1.30881024]), array([[0.73352909, 1.66082617]]))"
      ]
     },
     "execution_count": 23,
     "metadata": {
      "tags": []
     },
     "output_type": "execute_result"
    }
   ],
   "source": [
    "from sklearn.linear_model import Ridge\n",
    "\n",
    "X_train, X_test, y_train, y_test = train_test_split(Xdf, ydf, random_state=50, test_size=0.1)\n",
    "ridge = Ridge().fit(X_train, y_train)\n",
    "\n",
    "ridge.intercept_ , ridge.coef_"
   ]
  },
  {
   "cell_type": "code",
   "execution_count": 24,
   "metadata": {
    "colab": {
     "base_uri": "https://localhost:8080/"
    },
    "executionInfo": {
     "elapsed": 566,
     "status": "ok",
     "timestamp": 1618152062897,
     "user": {
      "displayName": "Eduard Alexis Larranaga",
      "photoUrl": "https://lh3.googleusercontent.com/a-/AOh14GgCVABzEgj-rCdyxWa29RnA0kIYUCXAaVbnRYOEhQ=s64",
      "userId": "04402438389940282602"
     },
     "user_tz": 300
    },
    "id": "nJWtPTPfpuiO",
    "outputId": "16412f70-17ac-4174-ac31-01bc8a295e5f"
   },
   "outputs": [
    {
     "data": {
      "text/plain": [
       "0.8467388608967501"
      ]
     },
     "execution_count": 24,
     "metadata": {
      "tags": []
     },
     "output_type": "execute_result"
    }
   ],
   "source": [
    "ridge.score(X_train, y_train)"
   ]
  },
  {
   "cell_type": "code",
   "execution_count": 25,
   "metadata": {
    "colab": {
     "base_uri": "https://localhost:8080/"
    },
    "executionInfo": {
     "elapsed": 358,
     "status": "ok",
     "timestamp": 1618152064007,
     "user": {
      "displayName": "Eduard Alexis Larranaga",
      "photoUrl": "https://lh3.googleusercontent.com/a-/AOh14GgCVABzEgj-rCdyxWa29RnA0kIYUCXAaVbnRYOEhQ=s64",
      "userId": "04402438389940282602"
     },
     "user_tz": 300
    },
    "id": "ihqdg6JupuiO",
    "outputId": "a0e86af1-6825-471f-82ad-756ad0149a4e"
   },
   "outputs": [
    {
     "data": {
      "text/plain": [
       "0.7815643586220277"
      ]
     },
     "execution_count": 25,
     "metadata": {
      "tags": []
     },
     "output_type": "execute_result"
    }
   ],
   "source": [
    "ridge.score(X_test, y_test)"
   ]
  },
  {
   "cell_type": "markdown",
   "metadata": {
    "id": "5SAV7R7cpuiP"
   },
   "source": [
    "#### Score of the linear model depending on the train set size"
   ]
  },
  {
   "cell_type": "code",
   "execution_count": 26,
   "metadata": {
    "colab": {
     "base_uri": "https://localhost:8080/",
     "height": 285
    },
    "executionInfo": {
     "elapsed": 1571,
     "status": "ok",
     "timestamp": 1618152070462,
     "user": {
      "displayName": "Eduard Alexis Larranaga",
      "photoUrl": "https://lh3.googleusercontent.com/a-/AOh14GgCVABzEgj-rCdyxWa29RnA0kIYUCXAaVbnRYOEhQ=s64",
      "userId": "04402438389940282602"
     },
     "user_tz": 300
    },
    "id": "fZAxqC8FpuiP",
    "outputId": "6cbcb871-50c7-45ac-e6de-ad934f14ed07"
   },
   "outputs": [
    {
     "data": {
      "image/png": "[encoded data removed]",
      "text/plain": [
       "<Figure size 432x288 with 1 Axes>"
      ]
     },
     "metadata": {
      "needs_background": "light",
      "tags": []
     },
     "output_type": "display_data"
    }
   ],
   "source": [
    "training_acc = []\n",
    "test_acc = []\n",
    "\n",
    "training_size = np.linspace(0.1,0.9,50)\n",
    "\n",
    "for s in training_size:\n",
    "    X_train, X_test, y_train, y_test = train_test_split(Xdf, ydf, random_state=50, train_size=s)\n",
    "    ridge = Ridge().fit(X_train, y_train)\n",
    "    training_acc.append(ridge.score(X_train,y_train))\n",
    "    test_acc.append(ridge.score(X_test,y_test))\n",
    "    \n",
    "plt.plot(training_size, training_acc, label='train accuracy')\n",
    "plt.plot(training_size, test_acc, label='test accuracy')\n",
    "plt.xlabel(r'Train size')\n",
    "plt.ylabel(r'Accuracy')\n",
    "plt.legend()\n",
    "plt.show()"
   ]
  },
  {
   "cell_type": "markdown",
   "metadata": {
    "id": "kvN9sAhbpuiQ"
   },
   "source": [
    "---\n",
    "### Lasso Regression\n",
    "\n",
    "From the `scikit-learn.linear_model` package, we will import the function `Lasso`. Complete documentation about it can be found at\n",
    "\n",
    "https://scikit-learn.org/stable/modules/generated/sklearn.linear_model.Lasso.html\n",
    "\n",
    "This function fits a linear model to minimize the residual sum of squares between the observed targets in the dataset and the targets predicted by the linear approximation (ordinary least squares fit), but it is regularized with the L1-norm."
   ]
  },
  {
   "cell_type": "code",
   "execution_count": 27,
   "metadata": {
    "colab": {
     "base_uri": "https://localhost:8080/"
    },
    "executionInfo": {
     "elapsed": 782,
     "status": "ok",
     "timestamp": 1618152086209,
     "user": {
      "displayName": "Eduard Alexis Larranaga",
      "photoUrl": "https://lh3.googleusercontent.com/a-/AOh14GgCVABzEgj-rCdyxWa29RnA0kIYUCXAaVbnRYOEhQ=s64",
      "userId": "04402438389940282602"
     },
     "user_tz": 300
    },
    "id": "8Z9ehqI7puiQ",
    "outputId": "b7ca2043-231c-49bf-8602-df377df0589b"
   },
   "outputs": [
    {
     "data": {
      "text/plain": [
       "(array([3.99862395]), array([0.        , 0.81525713]))"
      ]
     },
     "execution_count": 27,
     "metadata": {
      "tags": []
     },
     "output_type": "execute_result"
    }
   ],
   "source": [
    "from sklearn.linear_model import Lasso\n",
    "X_train, X_test, y_train, y_test = train_test_split(Xdf, ydf, random_state=50, test_size=0.1)\n",
    "lasso = Lasso(alpha=0.1).fit(X_train, y_train)\n",
    "\n",
    "lasso.intercept_ , lasso.coef_"
   ]
  },
  {
   "cell_type": "code",
   "execution_count": 28,
   "metadata": {
    "colab": {
     "base_uri": "https://localhost:8080/"
    },
    "executionInfo": {
     "elapsed": 500,
     "status": "ok",
     "timestamp": 1618152089971,
     "user": {
      "displayName": "Eduard Alexis Larranaga",
      "photoUrl": "https://lh3.googleusercontent.com/a-/AOh14GgCVABzEgj-rCdyxWa29RnA0kIYUCXAaVbnRYOEhQ=s64",
      "userId": "04402438389940282602"
     },
     "user_tz": 300
    },
    "id": "O5bb4MILpuiQ",
    "outputId": "778d1439-129c-451f-c7a5-773967389cee"
   },
   "outputs": [
    {
     "data": {
      "text/plain": [
       "0.476069989399779"
      ]
     },
     "execution_count": 28,
     "metadata": {
      "tags": []
     },
     "output_type": "execute_result"
    }
   ],
   "source": [
    "lasso.score(X_train, y_train)"
   ]
  },
  {
   "cell_type": "code",
   "execution_count": 29,
   "metadata": {
    "colab": {
     "base_uri": "https://localhost:8080/"
    },
    "executionInfo": {
     "elapsed": 508,
     "status": "ok",
     "timestamp": 1618152091273,
     "user": {
      "displayName": "Eduard Alexis Larranaga",
      "photoUrl": "https://lh3.googleusercontent.com/a-/AOh14GgCVABzEgj-rCdyxWa29RnA0kIYUCXAaVbnRYOEhQ=s64",
      "userId": "04402438389940282602"
     },
     "user_tz": 300
    },
    "id": "WEn9NTbapuiQ",
    "outputId": "af5fde1d-d2c8-4b41-a651-db6e5d1ab1be"
   },
   "outputs": [
    {
     "data": {
      "text/plain": [
       "0.3439250250734584"
      ]
     },
     "execution_count": 29,
     "metadata": {
      "tags": []
     },
     "output_type": "execute_result"
    }
   ],
   "source": [
    "lasso.score(X_test, y_test)"
   ]
  },
  {
   "cell_type": "markdown",
   "metadata": {
    "id": "qpHvYXKrpuiQ"
   },
   "source": [
    "#### Score of the linear model depending on the train set size\n"
   ]
  },
  {
   "cell_type": "code",
   "execution_count": 30,
   "metadata": {
    "colab": {
     "base_uri": "https://localhost:8080/",
     "height": 287
    },
    "executionInfo": {
     "elapsed": 1214,
     "status": "ok",
     "timestamp": 1618152096493,
     "user": {
      "displayName": "Eduard Alexis Larranaga",
      "photoUrl": "https://lh3.googleusercontent.com/a-/AOh14GgCVABzEgj-rCdyxWa29RnA0kIYUCXAaVbnRYOEhQ=s64",
      "userId": "04402438389940282602"
     },
     "user_tz": 300
    },
    "id": "uNOxBX2mpuiQ",
    "outputId": "d79eac84-5244-4ac5-a12f-17472a456bd2"
   },
   "outputs": [
    {
     "data": {
      "image/png": "[encoded data removed]",
      "text/plain": [
       "<Figure size 432x288 with 1 Axes>"
      ]
     },
     "metadata": {
      "needs_background": "light",
      "tags": []
     },
     "output_type": "display_data"
    }
   ],
   "source": [
    "training_acc = []\n",
    "test_acc = []\n",
    "\n",
    "training_size = np.linspace(0.1,0.9,50)\n",
    "\n",
    "for s in training_size:\n",
    "    X_train, X_test, y_train, y_test = train_test_split(Xdf, ydf, random_state=50, train_size=s)\n",
    "    lasso = Lasso(alpha=0.1).fit(X_train, y_train)\n",
    "    training_acc.append(lasso.score(X_train,y_train))\n",
    "    test_acc.append(lasso.score(X_test,y_test))\n",
    "    \n",
    "plt.plot(training_size, training_acc, label='train accuracy')\n",
    "plt.plot(training_size, test_acc, label='test accuracy')\n",
    "plt.xlabel(r'Train size')\n",
    "plt.ylabel(r'Accuracy')\n",
    "plt.legend()\n",
    "plt.show()"
   ]
  }
 ],
 "metadata": {
  "colab": {
   "collapsed_sections": [],
   "name": "ScikitRegression03.ipynb",
   "provenance": []
  },
  "kernelspec": {
   "display_name": "Python 3 (ipykernel)",
   "language": "python",
   "name": "python3"
  },
  "language_info": {
   "codemirror_mode": {
    "name": "ipython",
    "version": 3
   },
   "file_extension": ".py",
   "mimetype": "text/x-python",
   "name": "python",
   "nbconvert_exporter": "python",
   "pygments_lexer": "ipython3",
   "version": "3.9.7"
  }
 },
 "nbformat": 4,
 "nbformat_minor": 1
}
